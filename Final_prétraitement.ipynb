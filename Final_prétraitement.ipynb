{
 "cells": [
  {
   "cell_type": "markdown",
   "id": "71498a43-7693-4ee3-8fac-e3124412b5d8",
   "metadata": {},
   "source": [
    "## Installation de librairies"
   ]
  },
  {
   "cell_type": "code",
   "execution_count": 1,
   "id": "0109ea65-e440-4894-b405-bb7b2a21e786",
   "metadata": {
    "tags": []
   },
   "outputs": [
    {
     "name": "stdout",
     "output_type": "stream",
     "text": [
      "Requirement already satisfied: unidecode in /srv/conda/envs/notebook/lib/python3.9/site-packages (1.3.8)\n",
      "Note: you may need to restart the kernel to use updated packages.\n"
     ]
    }
   ],
   "source": [
    "pip install unidecode"
   ]
  },
  {
   "cell_type": "markdown",
   "id": "472534d3-f7da-4838-b258-339f929a8161",
   "metadata": {},
   "source": [
    "## Import des librairies"
   ]
  },
  {
   "cell_type": "code",
   "execution_count": 2,
   "id": "89667902-bf29-4a1d-b603-367f05668040",
   "metadata": {
    "tags": []
   },
   "outputs": [],
   "source": [
    "import os\n",
    "import re\n",
    "from unidecode import unidecode\n",
    "\n",
    "import numpy as np\n",
    "import pandas as pd\n",
    "import matplotlib.pyplot as plt\n",
    "import seaborn as sns\n",
    "\n",
    "from scipy import stats\n",
    "from scipy.stats import mannwhitneyu\n",
    "from scipy.stats import chi2_contingency\n",
    "from scipy.stats import spearmanr\n",
    "\n",
    "from sklearn.preprocessing import  OneHotEncoder"
   ]
  },
  {
   "cell_type": "code",
   "execution_count": 3,
   "id": "7e4fe521-4eac-4b35-a094-c9f063dd0168",
   "metadata": {
    "tags": []
   },
   "outputs": [
    {
     "name": "stdout",
     "output_type": "stream",
     "text": [
      "Répertoire actuel : /home/jovyan/MonDossier/UAMO7\n"
     ]
    }
   ],
   "source": [
    "# Obtenir le répertoire actuel\n",
    "current_directory = os.getcwd()\n",
    "\n",
    "# Afficher le répertoire actuel\n",
    "print(f\"Répertoire actuel : {current_directory}\")"
   ]
  },
  {
   "cell_type": "markdown",
   "id": "b262fe46-8759-49ee-a8d4-4abbad97ed6c",
   "metadata": {},
   "source": [
    "## Importation des données\n",
    "\n",
    "## Chargement et Inspection des Données\n",
    "\n",
    "- Le fichier d'entraînement (`application_train.csv`) est utilisé pour entraîner le modèle, \n",
    "- le fichier de test (`application_test.csv`) représente les données de production, sur lesquelles le modèle sera évalué après son déploiement."
   ]
  },
  {
   "cell_type": "code",
   "execution_count": 4,
   "id": "ef3f5181-c03d-49fd-b028-565fdec578a6",
   "metadata": {
    "tags": []
   },
   "outputs": [
    {
     "name": "stdout",
     "output_type": "stream",
     "text": [
      "Le DataFrame train contient : 307511 lignes et 122 colonnes.\n",
      "Le DataFrame test contient:  48744 lignes et 121 colonnes.\n"
     ]
    }
   ],
   "source": [
    "file_train = pd.read_csv(\"application_train.csv\")\n",
    "file_test = pd.read_csv(\"application_test.csv\")\n",
    "\n",
    "# Récupérer le nombre de lignes et de colonnes\n",
    "nb_lignes_train, nb_colonnes_train = file_train.shape\n",
    "\n",
    "nb_lignes_test, nb_colonnes_test = file_test.shape\n",
    "\n",
    "\n",
    "# Afficher le résultat\n",
    "print(f\"Le DataFrame train contient : {nb_lignes_train} lignes et {nb_colonnes_train} colonnes.\")\n",
    "# Afficher le résultat\n",
    "print(f\"Le DataFrame test contient:  {nb_lignes_test} lignes et {nb_colonnes_test} colonnes.\")"
   ]
  },
  {
   "cell_type": "markdown",
   "id": "267eff81-192a-413c-b939-5d66ad2b2ba5",
   "metadata": {},
   "source": [
    "# 1. Exploration, Préparation et Analyse des Données"
   ]
  },
  {
   "cell_type": "markdown",
   "id": "874035c0-67c7-40ac-9e64-69aa026e79a1",
   "metadata": {},
   "source": [
    "## 1.1 Vérification de la cohérence des données entre Train et Test \n",
    "\n",
    "- vérifie que les colonnes et les types de données sont identiques entre les ensembles d’entraînement et de test\n",
    "- Vérifie que les distributions des variables sont globalement similaires pour detecter un éventuel **covariate shift.**\n",
    "  - Pour les variables quanti nous avons utiliser test non paramétrique de Mann-Whitney U\n",
    "  - Pour les variables catégorielles, nous avons comparé les proportions de chaque catégorie entre les deux ensembles.\n",
    "\n",
    "Ces vérifications assurent une bonne généralisation du modèle et limitent les biais de prédiction."
   ]
  },
  {
   "cell_type": "code",
   "execution_count": 5,
   "id": "f499f168-3d64-4f5f-ae75-dca7105c1067",
   "metadata": {
    "tags": []
   },
   "outputs": [],
   "source": [
    "###############################################################\n",
    "# Fonction qui compare le nombre de colonnes et les noms des colonnes entre deux DataFrames.\n",
    "############################################################\n",
    "\n",
    "def comparer_colonnes(file_train, file_test):\n",
    "    # Compare le nombre et les noms des colonnes\n",
    "    train_cols, test_cols = set(file_train.columns), set(file_test.columns)\n",
    "    print(f\"Colonnes file_train : {len(file_train.columns)}, Colonnes file_test : {len(file_test.columns)}\")\n",
    "    \n",
    "    # Différences de colonnes\n",
    "    colonnes_diff_train = train_cols - test_cols\n",
    "    colonnes_diff_test = test_cols - train_cols\n",
    "    if colonnes_diff_train or colonnes_diff_test:\n",
    "        print(f\"Colonnes différence. file_train: {colonnes_diff_train}, différence. file_test: {colonnes_diff_test}\")\n",
    "    else:\n",
    "        print(\"Les deux DataFrames ont les mêmes colonnes.\")\n",
    "    \n",
    "    # Compter les types de colonnes\n",
    "    types_train = file_train.dtypes.value_counts().to_dict()\n",
    "    types_test = file_test.dtypes.value_counts().to_dict()\n",
    "\n",
    "    # Afficher les types de colonnes\n",
    "    print(\"\\nTypes de colonnes file_train:\", types_train)\n",
    "    print(\"Types de colonnes file_test:\", types_test)\n",
    "    \n",
    "    return types_train, types_test\n",
    "\n",
    "####################################################################################################\n",
    "# Fonction qui  Compare les distributions des colonnes numériques (int64 et float64) entre deux DataFrames\n",
    "# en utilisant le test de Mann-Whitney U.\n",
    "######################################################################################################\n",
    "\n",
    "def tester_distributions_quanti(file_train, file_test):\n",
    "    types_train, types_test = comparer_colonnes(file_train, file_test)\n",
    "\n",
    "    # Résultats des tests\n",
    "    results = {'int64': {'différents': [], 'similaires': []}, \n",
    "               'float64': {'différents': [], 'similaires': []}}\n",
    "\n",
    "    for dtype in ['int64', 'float64']:\n",
    "        for col in file_train.select_dtypes(include=[dtype]).columns:\n",
    "            if col in file_test.columns:\n",
    "                stat, p_value = mannwhitneyu(file_train[col], file_test[col], alternative='two-sided')\n",
    "                results[dtype]['différents' if p_value < 0.05 else 'similaires'].append(col)\n",
    "\n",
    "    # Ajouter le nombre de variables similaires/différentes\n",
    "    for dtype in results:\n",
    "        results[dtype]['nombre_similaires'] = len(results[dtype]['similaires'])\n",
    "        results[dtype]['nombre_différents'] = len(results[dtype]['différents'])\n",
    "    \n",
    "    return results\n",
    "\n",
    "############################################################################\n",
    "#  Affiche les distributions des colonnes avec des différences dans les distributions.\n",
    "###########################################################################\n",
    "\n",
    "def plot_differences_quanti(file_train, file_test, results, dtype='int64'):\n",
    "    # Récupérer les colonnes avec des distributions différentes pour le type spécifié\n",
    "    different_cols = results[dtype]['différents'][:10]\n",
    "    \n",
    "    if not different_cols:\n",
    "        print(f\"Aucune colonne de type '{dtype}' avec des distributions différentes.\")\n",
    "        return\n",
    "    \n",
    "    # Créer une figure pour les visualisations\n",
    "    plt.figure(figsize=(15, 10))\n",
    "    \n",
    "    # Affichage des histogrammes pour les colonnes sélectionnées\n",
    "    for i, col in enumerate(different_cols):\n",
    "        plt.subplot(4, 3, i + 1)  # Placer les graphiques dans une grille 4x3\n",
    "        plt.hist(file_train[col], bins=30, alpha=0.5, label='Train', color='blue')\n",
    "        plt.hist(file_test[col], bins=30, alpha=0.5, label='Test', color='orange')\n",
    "        plt.title(f\"Distribution de {col}\")\n",
    "        plt.xlabel('Valeurs')\n",
    "        plt.ylabel('Fréquence')\n",
    "        plt.legend()\n",
    "    \n",
    "    plt.tight_layout()\n",
    "    plt.show()\n",
    "\n",
    "\n"
   ]
  },
  {
   "cell_type": "code",
   "execution_count": 6,
   "id": "1c2dc243-6778-478d-b333-fce939ed4e39",
   "metadata": {
    "tags": []
   },
   "outputs": [],
   "source": [
    "def comparer_distributions_quali(file_train, file_test, tolerance=0.05):\n",
    "    results = {'similaires': [], 'différents': []}\n",
    "\n",
    "    # Compare les distributions des colonnes qualitatives\n",
    "    for col in file_train.select_dtypes(include=['object']).columns:\n",
    "        if col in file_test.columns:\n",
    "            # Calcul des distributions normalisées\n",
    "            train_dist = file_train[col].value_counts(normalize=True).sort_index()\n",
    "            test_dist = file_test[col].value_counts(normalize=True).sort_index()\n",
    "\n",
    "            # Union des index et réindexation\n",
    "            combined_index = train_dist.index.union(test_dist.index)\n",
    "            train_dist, test_dist = train_dist.reindex(combined_index, fill_value=0), test_dist.reindex(combined_index, fill_value=0)\n",
    "\n",
    "            # Vérifier la différence avec tolérance\n",
    "            if (abs(train_dist - test_dist) <= tolerance).all():\n",
    "                results['similaires'].append(col)\n",
    "            else:\n",
    "                results['différents'].append(col)\n",
    "\n",
    "    # Résumé des résultats\n",
    "    print(f\"\\nColonnes similaires : {len(results['similaires'])}, Colonnes différentes : {len(results['différents'])}\")\n",
    "    print(\"Colonnes différentes :\", results['différents'])\n",
    "\n",
    "    # Visualisation pour les colonnes différentes\n",
    "    for col in results['différents']:\n",
    "        print(f\"Visualisation de la distribution pour {col}\")\n",
    "        df_counts = pd.DataFrame({'Train': train_dist, 'Test': test_dist}).reset_index()\n",
    "        df_counts.columns = [col, 'Train', 'Test']\n",
    "        df_counts.plot(x=col, kind='bar', stacked=False, figsize=(10, 6))\n",
    "        plt.title(f\"Distribution de {col} dans les ensembles d'entraînement et de test\")\n",
    "        plt.ylabel(\"Proportion\")\n",
    "        plt.xlabel(col)\n",
    "        plt.xticks(rotation=45)\n",
    "        plt.legend(title='Ensemble', labels=['Entraînement', 'Test'])\n",
    "        plt.tight_layout()\n",
    "        plt.show()\n",
    "\n",
    "    return results\n"
   ]
  },
  {
   "cell_type": "markdown",
   "id": "cf8616d4-49d1-4408-80e2-23c611d541e7",
   "metadata": {},
   "source": [
    "**Appel de la fonction comparer_colonnes(file_train, file_test)**"
   ]
  },
  {
   "cell_type": "code",
   "execution_count": 7,
   "id": "527002cc-874d-421d-a5ac-a3ca641cbbed",
   "metadata": {
    "tags": []
   },
   "outputs": [
    {
     "name": "stdout",
     "output_type": "stream",
     "text": [
      "Colonnes file_train : 122, Colonnes file_test : 121\n",
      "Colonnes différence. file_train: {'TARGET'}, différence. file_test: set()\n",
      "\n",
      "Types de colonnes file_train: {dtype('float64'): 65, dtype('int64'): 41, dtype('O'): 16}\n",
      "Types de colonnes file_test: {dtype('float64'): 65, dtype('int64'): 40, dtype('O'): 16}\n"
     ]
    }
   ],
   "source": [
    "results = tester_distributions_quanti(file_train, file_test)"
   ]
  },
  {
   "cell_type": "markdown",
   "id": "1bffcb70-ba79-435a-a4f2-b9df62cfce86",
   "metadata": {},
   "source": [
    "**Appel de la fonction qui Compare les distributions des colonnes numériques**"
   ]
  },
  {
   "cell_type": "code",
   "execution_count": 8,
   "id": "4ab265a4-effe-4772-aa32-e2a51fec716d",
   "metadata": {
    "tags": []
   },
   "outputs": [
    {
     "name": "stdout",
     "output_type": "stream",
     "text": [
      "\n",
      "Résultats pour les colonnes de type 'int64' :\n",
      "Nombre de colonnes similaires : 13\n",
      "Nombre de colonnes différentes : 27\n",
      "Colonnes différentes : ['CNT_CHILDREN', 'DAYS_EMPLOYED', 'DAYS_ID_PUBLISH', 'FLAG_EMP_PHONE', 'FLAG_WORK_PHONE', 'FLAG_PHONE', 'FLAG_EMAIL', 'REGION_RATING_CLIENT', 'REGION_RATING_CLIENT_W_CITY', 'HOUR_APPR_PROCESS_START', 'REG_REGION_NOT_LIVE_REGION', 'REG_REGION_NOT_WORK_REGION', 'REG_CITY_NOT_WORK_CITY', 'LIVE_CITY_NOT_WORK_CITY', 'FLAG_DOCUMENT_3', 'FLAG_DOCUMENT_7', 'FLAG_DOCUMENT_8', 'FLAG_DOCUMENT_11', 'FLAG_DOCUMENT_13', 'FLAG_DOCUMENT_14', 'FLAG_DOCUMENT_15', 'FLAG_DOCUMENT_16', 'FLAG_DOCUMENT_17', 'FLAG_DOCUMENT_18', 'FLAG_DOCUMENT_19', 'FLAG_DOCUMENT_20', 'FLAG_DOCUMENT_21']\n",
      "\n",
      "Résultats pour les colonnes de type 'float64' :\n",
      "Nombre de colonnes similaires : 63\n",
      "Nombre de colonnes différentes : 2\n",
      "Colonnes différentes : ['AMT_INCOME_TOTAL', 'AMT_CREDIT']\n"
     ]
    }
   ],
   "source": [
    "# Affichage des résultats pour int64\n",
    "print(\"\\nRésultats pour les colonnes de type 'int64' :\")\n",
    "print(f\"Nombre de colonnes similaires : {results['int64']['nombre_similaires']}\")\n",
    "print(f\"Nombre de colonnes différentes : {results['int64']['nombre_différents']}\")\n",
    "# print(\"Colonnes similaires :\", results['int64']['similaires'])\n",
    "print(\"Colonnes différentes :\", results['int64']['différents'])\n",
    "\n",
    "# Affichage des résultats pour float64\n",
    "print(\"\\nRésultats pour les colonnes de type 'float64' :\")\n",
    "print(f\"Nombre de colonnes similaires : {results['float64']['nombre_similaires']}\")\n",
    "print(f\"Nombre de colonnes différentes : {results['float64']['nombre_différents']}\")\n",
    "# print(\"Colonnes similaires :\", results['float64']['similaires'])\n",
    "print(\"Colonnes différentes :\", results['float64']['différents'])"
   ]
  },
  {
   "cell_type": "code",
   "execution_count": 9,
   "id": "35e8d041-1815-4d9f-9a73-16e151584e8d",
   "metadata": {
    "tags": []
   },
   "outputs": [
    {
     "data": {
      "image/png": "[encoded data removed]",
      "text/plain": [
       "<Figure size 1080x720 with 10 Axes>"
      ]
     },
     "metadata": {
      "needs_background": "light"
     },
     "output_type": "display_data"
    }
   ],
   "source": [
    "# Appeler la fonction pour tracer les différences\n",
    "plot_differences_quanti(file_train, file_test, results, dtype='int64')"
   ]
  },
  {
   "cell_type": "code",
   "execution_count": 10,
   "id": "42e37bdc-4bfc-47cb-b302-96b718d69063",
   "metadata": {
    "tags": []
   },
   "outputs": [
    {
     "data": {
      "image/png": "[encoded data removed]",
      "text/plain": [
       "<Figure size 1080x720 with 2 Axes>"
      ]
     },
     "metadata": {
      "needs_background": "light"
     },
     "output_type": "display_data"
    }
   ],
   "source": [
    "# Appeler la fonction pour tracer les différences\n",
    "plot_differences_quanti(file_train, file_test, results, dtype='float64')"
   ]
  },
  {
   "cell_type": "markdown",
   "id": "edee3ee7-0086-47da-b923-c9998e707ad9",
   "metadata": {},
   "source": [
    "**Appel de la fonction qui Compare les distributions des colonnes qualitatives**"
   ]
  },
  {
   "cell_type": "code",
   "execution_count": 11,
   "id": "dabf2ebe-aeab-41d7-ba06-785bd44672f2",
   "metadata": {
    "tags": []
   },
   "outputs": [
    {
     "name": "stdout",
     "output_type": "stream",
     "text": [
      "\n",
      "Colonnes similaires : 15, Colonnes différentes : 1\n",
      "Colonnes différentes : ['NAME_CONTRACT_TYPE']\n",
      "Visualisation de la distribution pour NAME_CONTRACT_TYPE\n"
     ]
    },
    {
     "data": {
      "image/png": "[encoded data removed]",
      "text/plain": [
       "<Figure size 720x432 with 1 Axes>"
      ]
     },
     "metadata": {
      "needs_background": "light"
     },
     "output_type": "display_data"
    }
   ],
   "source": [
    "results_quali = comparer_distributions_quali(file_train, file_test)\n"
   ]
  },
  {
   "cell_type": "markdown",
   "id": "12a86cfb-bea9-4aec-830c-99b45f637dfe",
   "metadata": {},
   "source": [
    "**On constate :** \n",
    "Après vérification, les colonnes et les types de données sont identiques dans les deux ensembles. L'analyse statistique a révélé quelques différences significatives, mais les distributions restent globalement similaires. Les tests statistiques peuvent être sensibles aux petites variations, particulièrement avec de grands échantillons."
   ]
  },
  {
   "cell_type": "code",
   "execution_count": null,
   "id": "db8aa393-2f20-4250-a322-9fe2de789725",
   "metadata": {},
   "outputs": [],
   "source": []
  },
  {
   "cell_type": "markdown",
   "id": "4fa78a05-5d99-423e-8e7b-71723e1e16cf",
   "metadata": {},
   "source": [
    "## 1.2 Nettoyage et traitement des données\n",
    "\n",
    "Assurer la qualité des données en traitant les anomalies dans les ensembles d’entraînement et de test, tout en préservant l'intégrité du modèle.\n",
    "\n",
    "Cette étape permet également de réduire les risques de data leakage en s’assurant que :\n",
    "- Les données de test restent indépendantes des données d’entraînement.\n",
    "- Aucune information future ou liée aux labels ne contamine le processus d'entraînement"
   ]
  },
  {
   "cell_type": "markdown",
   "id": "aaf339e4-1def-4053-90a1-75a5df14caba",
   "metadata": {},
   "source": [
    "### 1.2.1 Vérification des doublons\n",
    "\n",
    "Ces fonctions visent à :\n",
    "\n",
    "- Identifier et analyser les lignes dupliquées dans le dataset, ainsi que les doublons éventuels dans la variable clé SK_ID_CURR.\n",
    "- Vérifier s'il existe un chevauchement des identifiants SK_ID_CURR entre les jeux d'entraînement et de test, ce qui pourrait introduire des biais dans l'évaluation du modèle.\n"
   ]
  },
  {
   "cell_type": "code",
   "execution_count": 12,
   "id": "eb715947-f7d9-4749-8b1d-a2af290ca411",
   "metadata": {
    "tags": []
   },
   "outputs": [],
   "source": [
    "#################################################################################\n",
    "# On verifie sur l'ensemble des lignes du data et sur la variable clé SK_ID_CURR\n",
    "############################################################################\n",
    "\n",
    "def doublons(data):\n",
    "    \n",
    "    # 1. Sur l'ensemble du data\n",
    "    \n",
    "    # Compter le nombre de doublons\n",
    "    num_duplicates = data.duplicated().sum()\n",
    "    print(f\"Nombre de lignes dupliquées : {num_duplicates}\")\n",
    "\n",
    "    # Si des doublons existent, afficher les lignes dupliquées\n",
    "    if num_duplicates > 0:\n",
    "        # Filtrer les doublons et les afficher\n",
    "        duplicated_rows = data[data.duplicated(keep=False)]  # keep=False pour garder toutes les occurrences\n",
    "        print(\"\\nLignes dupliquées :\")\n",
    "        print(duplicated_rows)\n",
    "    else:\n",
    "        print(\"Aucune ligne dupliquée trouvée.\")\n",
    "        print()\n",
    "\n",
    "    # 2. Sur la variable clé SK_ID_CURR\n",
    "    if 'SK_ID_CURR' in data.columns:\n",
    "        # Vérifier les doublons dans la colonne SK_ID_CURR\n",
    "        duplicates = data[data['SK_ID_CURR'].duplicated(keep=False)]\n",
    "\n",
    "        # Afficher les doublons\n",
    "        if duplicates.empty:\n",
    "            print(\"Tous les identifiants SK_ID_CURR sont uniques dans le DataFrame.\")\n",
    "        else:\n",
    "            print(f\"Il y a {duplicates.shape[0]} doublons trouvés dans SK_ID_CURR.\")\n",
    "            print(\"Identifiants en double :\")\n",
    "            print(duplicates[['SK_ID_CURR']].drop_duplicates())  # Afficher les identifiants en double\n",
    "    else:\n",
    "        print(\"La colonne 'SK_ID_CURR' n'existe pas dans le DataFrame.\")\n",
    "        \n",
    "\n",
    "        \n",
    "#######################################################################################################################        \n",
    "# On Vérifie si il y'a un chevauchement des identifiants SK_ID_CURR entre les jeux de données d'entraînement et de test.\n",
    "#######################################################################################################################\n",
    "\n",
    "def check_id_overlap(train_data, test_data):\n",
    "   \n",
    "    # Vérifie si 'SK_ID_CURR' existe dans les deux DataFrames\n",
    "    if 'SK_ID_CURR' not in train_data.columns or 'SK_ID_CURR' not in test_data.columns:\n",
    "        print(\"Erreur : La colonne 'SK_ID_CURR' doit être présente dans les deux DataFrames.\")\n",
    "        return\n",
    "\n",
    "    # Compare les valeurs uniques\n",
    "    train_ids = set(train_data['SK_ID_CURR'])\n",
    "    test_ids = set(test_data['SK_ID_CURR'])\n",
    "\n",
    "    # Trouve les identifiants communs\n",
    "    common_ids = train_ids.intersection(test_ids)\n",
    "\n",
    "    # Affiche les résultats\n",
    "    if not common_ids:\n",
    "        print(\"Il n'y a pas de chevauchement de SK_ID_CURR entre train et test.\")\n",
    "    else:\n",
    "        print(f\"Il y a un chevauchement des SK_ID_CURR suivants entre train et test : {common_ids}\")\n"
   ]
  },
  {
   "cell_type": "code",
   "execution_count": 13,
   "id": "6b81d556-7b41-4583-a539-740e6db0e287",
   "metadata": {
    "tags": []
   },
   "outputs": [
    {
     "name": "stdout",
     "output_type": "stream",
     "text": [
      "Train :\n",
      "Nombre de lignes dupliquées : 0\n",
      "Aucune ligne dupliquée trouvée.\n",
      "\n",
      "Tous les identifiants SK_ID_CURR sont uniques dans le DataFrame.\n",
      "\n",
      "\n",
      "Test :\n",
      "Nombre de lignes dupliquées : 0\n",
      "Aucune ligne dupliquée trouvée.\n",
      "\n",
      "Tous les identifiants SK_ID_CURR sont uniques dans le DataFrame.\n",
      "\n",
      "\n",
      "Chevauchement entre train et test (SK_ID_CURR) :\n",
      "Il n'y a pas de chevauchement de SK_ID_CURR entre train et test.\n"
     ]
    }
   ],
   "source": [
    "# Appel de la fonction pour voir les doublons du train\n",
    "print(\"Train :\")\n",
    "doublons(file_train)\n",
    "print(\"\\n\")\n",
    "\n",
    "##### Appel de la fonction pour voir les doublons du test\n",
    "print(\"Test :\")\n",
    "doublons(file_test)\n",
    "print(\"\\n\")\n",
    "\n",
    "# Appel de la fonction pour voir les doublons entre le train et le test en fonction de SK_ID_CURR\n",
    "print(\"Chevauchement entre train et test (SK_ID_CURR) :\")\n",
    "check_id_overlap(file_train, file_test)\n"
   ]
  },
  {
   "cell_type": "markdown",
   "id": "6a89b01c-ed58-4797-8f8b-b5d6f75a00b8",
   "metadata": {
    "tags": []
   },
   "source": [
    "### 1.2.2 Gestion des valeurs aberrantes / atypiques "
   ]
  },
  {
   "cell_type": "markdown",
   "id": "1c5fc6ae-8753-4914-83d9-7611fa83ebfe",
   "metadata": {},
   "source": [
    "#### Vérification pour les types int64"
   ]
  },
  {
   "cell_type": "code",
   "execution_count": 14,
   "id": "95fd134d-7174-4ad1-85d7-1c6aa1823b1c",
   "metadata": {
    "tags": []
   },
   "outputs": [
    {
     "name": "stdout",
     "output_type": "stream",
     "text": [
      "nombre de col : 41\n",
      "\n",
      "SK_ID_CURR                     307511\n",
      "TARGET                              2\n",
      "CNT_CHILDREN                       15\n",
      "DAYS_BIRTH                      17460\n",
      "DAYS_EMPLOYED                   12574\n",
      "DAYS_ID_PUBLISH                  6168\n",
      "FLAG_MOBIL                          2\n",
      "FLAG_EMP_PHONE                      2\n",
      "FLAG_WORK_PHONE                     2\n",
      "FLAG_CONT_MOBILE                    2\n",
      "FLAG_PHONE                          2\n",
      "FLAG_EMAIL                          2\n",
      "REGION_RATING_CLIENT                3\n",
      "REGION_RATING_CLIENT_W_CITY         3\n",
      "HOUR_APPR_PROCESS_START            24\n",
      "REG_REGION_NOT_LIVE_REGION          2\n",
      "REG_REGION_NOT_WORK_REGION          2\n",
      "LIVE_REGION_NOT_WORK_REGION         2\n",
      "REG_CITY_NOT_LIVE_CITY              2\n",
      "REG_CITY_NOT_WORK_CITY              2\n",
      "LIVE_CITY_NOT_WORK_CITY             2\n",
      "FLAG_DOCUMENT_2                     2\n",
      "FLAG_DOCUMENT_3                     2\n",
      "FLAG_DOCUMENT_4                     2\n",
      "FLAG_DOCUMENT_5                     2\n",
      "FLAG_DOCUMENT_6                     2\n",
      "FLAG_DOCUMENT_7                     2\n",
      "FLAG_DOCUMENT_8                     2\n",
      "FLAG_DOCUMENT_9                     2\n",
      "FLAG_DOCUMENT_10                    2\n",
      "FLAG_DOCUMENT_11                    2\n",
      "FLAG_DOCUMENT_12                    2\n",
      "FLAG_DOCUMENT_13                    2\n",
      "FLAG_DOCUMENT_14                    2\n",
      "FLAG_DOCUMENT_15                    2\n",
      "FLAG_DOCUMENT_16                    2\n",
      "FLAG_DOCUMENT_17                    2\n",
      "FLAG_DOCUMENT_18                    2\n",
      "FLAG_DOCUMENT_19                    2\n",
      "FLAG_DOCUMENT_20                    2\n",
      "FLAG_DOCUMENT_21                    2\n",
      "dtype: int64\n"
     ]
    }
   ],
   "source": [
    "# Identification et comptage des valeurs uniques dans les colonnes de type entier\n",
    "\n",
    "int_cols = file_train.select_dtypes(include=['int64']).columns\n",
    "print(\"nombre de col :\" ,len(int_cols))\n",
    "print()\n",
    "\n",
    "# Affiche le nombre de valeurs uniques dans chaque colonne entière\n",
    "print(file_train[int_cols].nunique())"
   ]
  },
  {
   "cell_type": "code",
   "execution_count": 15,
   "id": "2b5f4688-eb33-4dbd-9c73-5419bca9e61b",
   "metadata": {
    "tags": []
   },
   "outputs": [
    {
     "data": {
      "text/html": [
       "<div>\n",
       "<style scoped>\n",
       "    .dataframe tbody tr th:only-of-type {\n",
       "        vertical-align: middle;\n",
       "    }\n",
       "\n",
       "    .dataframe tbody tr th {\n",
       "        vertical-align: top;\n",
       "    }\n",
       "\n",
       "    .dataframe thead th {\n",
       "        text-align: right;\n",
       "    }\n",
       "</style>\n",
       "<table border=\"1\" class=\"dataframe\">\n",
       "  <thead>\n",
       "    <tr style=\"text-align: right;\">\n",
       "      <th></th>\n",
       "      <th>DAYS_BIRTH</th>\n",
       "      <th>DAYS_EMPLOYED</th>\n",
       "      <th>DAYS_ID_PUBLISH</th>\n",
       "      <th>HOUR_APPR_PROCESS_START</th>\n",
       "    </tr>\n",
       "  </thead>\n",
       "  <tbody>\n",
       "    <tr>\n",
       "      <th>0</th>\n",
       "      <td>-9461</td>\n",
       "      <td>-637</td>\n",
       "      <td>-2120</td>\n",
       "      <td>10</td>\n",
       "    </tr>\n",
       "    <tr>\n",
       "      <th>1</th>\n",
       "      <td>-16765</td>\n",
       "      <td>-1188</td>\n",
       "      <td>-291</td>\n",
       "      <td>11</td>\n",
       "    </tr>\n",
       "    <tr>\n",
       "      <th>2</th>\n",
       "      <td>-19046</td>\n",
       "      <td>-225</td>\n",
       "      <td>-2531</td>\n",
       "      <td>9</td>\n",
       "    </tr>\n",
       "    <tr>\n",
       "      <th>3</th>\n",
       "      <td>-19005</td>\n",
       "      <td>-3039</td>\n",
       "      <td>-2437</td>\n",
       "      <td>17</td>\n",
       "    </tr>\n",
       "    <tr>\n",
       "      <th>4</th>\n",
       "      <td>-19932</td>\n",
       "      <td>-3038</td>\n",
       "      <td>-3458</td>\n",
       "      <td>11</td>\n",
       "    </tr>\n",
       "  </tbody>\n",
       "</table>\n",
       "</div>"
      ],
      "text/plain": [
       "   DAYS_BIRTH  DAYS_EMPLOYED  DAYS_ID_PUBLISH  HOUR_APPR_PROCESS_START\n",
       "0       -9461           -637            -2120                       10\n",
       "1      -16765          -1188             -291                       11\n",
       "2      -19046           -225            -2531                        9\n",
       "3      -19005          -3039            -2437                       17\n",
       "4      -19932          -3038            -3458                       11"
      ]
     },
     "execution_count": 15,
     "metadata": {},
     "output_type": "execute_result"
    }
   ],
   "source": [
    "### voir les variables dates à quoi ressemble\n",
    "file_train[['DAYS_BIRTH', 'DAYS_EMPLOYED','DAYS_ID_PUBLISH', 'HOUR_APPR_PROCESS_START']].head()"
   ]
  },
  {
   "cell_type": "markdown",
   "id": "843809b5-6da6-4169-ab50-5dd55933eddc",
   "metadata": {},
   "source": [
    "On constate que :\n",
    "\n",
    "- DAYS_BIRTH : Âge de la personne en jours (valeurs négatives indiquant le nombre de jours avant la date actuelle).\n",
    "- DAYS_EMPLOYED : Durée de l'emploi en jours (valeurs négatives, indiquant le nombre de jours depuis le début de l'emploi).\n",
    "- DAYS_ID_PUBLISH : Nombre de jours depuis la publication de l'identifiant de la personne (valeurs négatives).\n",
    "- HOUR_APPR_PROCESS_START : Heure (sur une échelle de 24 heures) à laquelle le processus de demande d'approbation a commencé.\n",
    "\n",
    "Pour une meilleurs comprehension on convertir les colonnes DAYS_BIRTH, DAYS_EMPLOYED et DAYS_ID_PUBLISH en années"
   ]
  },
  {
   "cell_type": "code",
   "execution_count": 16,
   "id": "b2c329cd-f110-46e7-bdb2-34e445977e27",
   "metadata": {
    "tags": []
   },
   "outputs": [],
   "source": [
    "def changement_days_years(df):\n",
    "   \n",
    "    # Convertir les jours en années\n",
    "    df['AGE'] = (df['DAYS_BIRTH'] / -365.25).astype(int)  # Âge en années\n",
    "    df['EMPLOYMENT_DURATION'] = (df['DAYS_EMPLOYED'] / -365.25).astype(int)  # Durée d'emploi en années\n",
    "    df['PUBLISH_DURATION'] = (df['DAYS_ID_PUBLISH'] / -365.25).astype(int)  # Durée depuis la publication en années\n",
    "    \n",
    "    # Supprime les anciennes colonnes\n",
    "    df = df.drop(columns=['DAYS_BIRTH', 'DAYS_EMPLOYED', 'DAYS_ID_PUBLISH'])\n",
    "    \n",
    "    return df\n",
    "\n",
    "\n",
    "train = changement_days_years(file_train)\n",
    "test = changement_days_years(file_test)"
   ]
  },
  {
   "cell_type": "markdown",
   "id": "4570eecb-84a1-4ce3-a4c7-c83b9b893180",
   "metadata": {},
   "source": [
    "**Nous allons nous interesser aux variables qui ont plus de deux valeurs uniques**"
   ]
  },
  {
   "cell_type": "code",
   "execution_count": 17,
   "id": "8c3403fd-0ed2-40f7-ba77-05278dfd548e",
   "metadata": {
    "tags": []
   },
   "outputs": [
    {
     "data": {
      "text/html": [
       "<div>\n",
       "<style scoped>\n",
       "    .dataframe tbody tr th:only-of-type {\n",
       "        vertical-align: middle;\n",
       "    }\n",
       "\n",
       "    .dataframe tbody tr th {\n",
       "        vertical-align: top;\n",
       "    }\n",
       "\n",
       "    .dataframe thead th {\n",
       "        text-align: right;\n",
       "    }\n",
       "</style>\n",
       "<table border=\"1\" class=\"dataframe\">\n",
       "  <thead>\n",
       "    <tr style=\"text-align: right;\">\n",
       "      <th></th>\n",
       "      <th>SK_ID_CURR</th>\n",
       "      <th>CNT_CHILDREN</th>\n",
       "      <th>REGION_RATING_CLIENT</th>\n",
       "      <th>REGION_RATING_CLIENT_W_CITY</th>\n",
       "      <th>HOUR_APPR_PROCESS_START</th>\n",
       "      <th>AGE</th>\n",
       "      <th>EMPLOYMENT_DURATION</th>\n",
       "      <th>PUBLISH_DURATION</th>\n",
       "    </tr>\n",
       "  </thead>\n",
       "  <tbody>\n",
       "    <tr>\n",
       "      <th>0</th>\n",
       "      <td>100002</td>\n",
       "      <td>0</td>\n",
       "      <td>2</td>\n",
       "      <td>2</td>\n",
       "      <td>10</td>\n",
       "      <td>25</td>\n",
       "      <td>1</td>\n",
       "      <td>5</td>\n",
       "    </tr>\n",
       "    <tr>\n",
       "      <th>1</th>\n",
       "      <td>100003</td>\n",
       "      <td>0</td>\n",
       "      <td>1</td>\n",
       "      <td>1</td>\n",
       "      <td>11</td>\n",
       "      <td>45</td>\n",
       "      <td>3</td>\n",
       "      <td>0</td>\n",
       "    </tr>\n",
       "    <tr>\n",
       "      <th>2</th>\n",
       "      <td>100004</td>\n",
       "      <td>0</td>\n",
       "      <td>2</td>\n",
       "      <td>2</td>\n",
       "      <td>9</td>\n",
       "      <td>52</td>\n",
       "      <td>0</td>\n",
       "      <td>6</td>\n",
       "    </tr>\n",
       "    <tr>\n",
       "      <th>3</th>\n",
       "      <td>100006</td>\n",
       "      <td>0</td>\n",
       "      <td>2</td>\n",
       "      <td>2</td>\n",
       "      <td>17</td>\n",
       "      <td>52</td>\n",
       "      <td>8</td>\n",
       "      <td>6</td>\n",
       "    </tr>\n",
       "    <tr>\n",
       "      <th>4</th>\n",
       "      <td>100007</td>\n",
       "      <td>0</td>\n",
       "      <td>2</td>\n",
       "      <td>2</td>\n",
       "      <td>11</td>\n",
       "      <td>54</td>\n",
       "      <td>8</td>\n",
       "      <td>9</td>\n",
       "    </tr>\n",
       "  </tbody>\n",
       "</table>\n",
       "</div>"
      ],
      "text/plain": [
       "   SK_ID_CURR  CNT_CHILDREN  REGION_RATING_CLIENT  \\\n",
       "0      100002             0                     2   \n",
       "1      100003             0                     1   \n",
       "2      100004             0                     2   \n",
       "3      100006             0                     2   \n",
       "4      100007             0                     2   \n",
       "\n",
       "   REGION_RATING_CLIENT_W_CITY  HOUR_APPR_PROCESS_START  AGE  \\\n",
       "0                            2                       10   25   \n",
       "1                            1                       11   45   \n",
       "2                            2                        9   52   \n",
       "3                            2                       17   52   \n",
       "4                            2                       11   54   \n",
       "\n",
       "   EMPLOYMENT_DURATION  PUBLISH_DURATION  \n",
       "0                    1                 5  \n",
       "1                    3                 0  \n",
       "2                    0                 6  \n",
       "3                    8                 6  \n",
       "4                    8                 9  "
      ]
     },
     "execution_count": 17,
     "metadata": {},
     "output_type": "execute_result"
    }
   ],
   "source": [
    "int_cols = train.select_dtypes(include=['int64']).columns\n",
    "\n",
    "# Compte le nombre de valeurs uniques pour chaque colonne de type int64\n",
    "unique_counts = train[int_cols].nunique()\n",
    "\n",
    "# Filtre pour trouver les colonnes avec plus de deux valeurs uniques\n",
    "plus_columns = unique_counts[unique_counts > 2].index  # Utilisation de .index pour récupérer les noms des colonnes\n",
    "\n",
    "\n",
    "train[plus_columns].head()"
   ]
  },
  {
   "cell_type": "code",
   "execution_count": 18,
   "id": "023a3425-3f49-43d2-8a3e-c907c7886616",
   "metadata": {
    "tags": []
   },
   "outputs": [
    {
     "name": "stdout",
     "output_type": "stream",
     "text": [
      "       SK_ID_CURR  CNT_CHILDREN  REGION_RATING_CLIENT  \\\n",
      "count  307511.000    307511.000            307511.000   \n",
      "mean   278180.519         0.417                 2.052   \n",
      "std    102790.175         0.722                 0.509   \n",
      "min    100002.000         0.000                 1.000   \n",
      "25%    189145.500         0.000                 2.000   \n",
      "50%    278202.000         0.000                 2.000   \n",
      "75%    367142.500         1.000                 2.000   \n",
      "max    456255.000        19.000                 3.000   \n",
      "\n",
      "       REGION_RATING_CLIENT_W_CITY  HOUR_APPR_PROCESS_START         AGE  \\\n",
      "count                   307511.000               307511.000  307511.000   \n",
      "mean                         2.032                   12.063      43.405   \n",
      "std                          0.503                    3.266      11.946   \n",
      "min                          1.000                    0.000      20.000   \n",
      "25%                          2.000                   10.000      33.000   \n",
      "50%                          2.000                   12.000      43.000   \n",
      "75%                          2.000                   14.000      53.000   \n",
      "max                          3.000                   23.000      69.000   \n",
      "\n",
      "       EMPLOYMENT_DURATION  PUBLISH_DURATION  \n",
      "count           307511.000        307511.000  \n",
      "mean              -174.946             7.706  \n",
      "std                386.225             4.131  \n",
      "min               -999.000             0.000  \n",
      "25%                  0.000             4.000  \n",
      "50%                  3.000             8.000  \n",
      "75%                  7.000            11.000  \n",
      "max                 49.000            19.000  \n"
     ]
    }
   ],
   "source": [
    "# On affiche les statistiques descriptives arrondies pour les colonnes sélectionnées\n",
    "print(round(train[plus_columns].describe(), 3))"
   ]
  },
  {
   "cell_type": "markdown",
   "id": "19b9d034-7e5d-4bb7-919d-465a32098021",
   "metadata": {},
   "source": [
    "A partir de ces statistiques descriptives nous allons parler des variables qui presente des resultats comme potentiellement **atypiques** ou **aberrantes** :\n",
    "\n",
    "1. **CNT_CHILDREN (Nombre d'enfants)** :\n",
    "   - La plupart des individus ont peu ou pas d’enfants, comme le montre la médiane (50e percentile) à 0 et le 75e percentile à 1.\n",
    "   - Le maximum est de **19 enfants**, ce qui est très élevé et peut représenter des valeurs erronées ou des cas rares. \n",
    "   \n",
    "2. **EMPLOYMENT_DURATION (Durée d’emploi)** :\n",
    "   - La moyenne de **-174.946** et la valeur minimale de **-999** suggèrent des erreurs ou des valeurs codées pour indiquer des données manquantes. D'ailleurs -999 sont couramment utilisées comme code pour représenter une valeur manquante et doivent être remplacées par `NaN`.\n",
    " \n",
    "\n"
   ]
  },
  {
   "cell_type": "markdown",
   "id": "ae89836c-a08d-4bc0-927e-2854709be1a6",
   "metadata": {},
   "source": [
    "**Vérification des outliers**"
   ]
  },
  {
   "cell_type": "code",
   "execution_count": 19,
   "id": "e344ec82-4210-441c-9a03-8e581d152458",
   "metadata": {
    "tags": []
   },
   "outputs": [
    {
     "name": "stdout",
     "output_type": "stream",
     "text": [
      "0     215371\n",
      "1      61119\n",
      "2      26749\n",
      "3       3717\n",
      "4        429\n",
      "5         84\n",
      "6         21\n",
      "7          7\n",
      "14         3\n",
      "8          2\n",
      "9          2\n",
      "12         2\n",
      "10         2\n",
      "19         2\n",
      "11         1\n",
      "Name: CNT_CHILDREN, dtype: int64\n"
     ]
    }
   ],
   "source": [
    "# Compter le nombre de lignes pour chaque valeur unique dans 'CNT_CHILDREN'\n",
    "print(train['CNT_CHILDREN'].value_counts())"
   ]
  },
  {
   "cell_type": "code",
   "execution_count": 20,
   "id": "8c43fd25-8c04-4777-8e42-390332b1a05a",
   "metadata": {
    "tags": []
   },
   "outputs": [
    {
     "name": "stdout",
     "output_type": "stream",
     "text": [
      "Nombre de lignes avec des valeurs négatives dans 'EMPLOYMENT_DURATION' : 55374\n",
      "Nombre de valeurs uniques négatives dans 'EMPLOYMENT_DURATION' : 1\n",
      "\n",
      "Valeurs uniques négatives :\n",
      "[-999]\n"
     ]
    }
   ],
   "source": [
    "# Filtrer les valeurs négatives dans 'EMPLOYMENT_DURATION'\n",
    "negative_values = file_train[file_train['EMPLOYMENT_DURATION'] < 0]['EMPLOYMENT_DURATION']\n",
    "\n",
    "# Compter le nombre de lignes avec des valeurs négatives\n",
    "count_negative_values = negative_values.shape[0]\n",
    "\n",
    "# Obtenir les valeurs uniques parmi les valeurs négatives\n",
    "unique_negative_values = negative_values.unique()\n",
    "\n",
    "# Compter le nombre de valeurs uniques\n",
    "count_unique_negative_values = len(unique_negative_values)\n",
    "\n",
    "# Affichage des résultats\n",
    "print(f\"Nombre de lignes avec des valeurs négatives dans 'EMPLOYMENT_DURATION' : {count_negative_values}\")\n",
    "print(f\"Nombre de valeurs uniques négatives dans 'EMPLOYMENT_DURATION' : {count_unique_negative_values}\")\n",
    "print(\"\\nValeurs uniques négatives :\")\n",
    "print(unique_negative_values)"
   ]
  },
  {
   "cell_type": "markdown",
   "id": "e0d1d79d-2222-4b3e-bfa3-f96ceea4687d",
   "metadata": {},
   "source": [
    "#### Modification des variables int64 se portera\n",
    "\n",
    "- **CNT_CHILDREN**: Suppression des lignes où le nombre d'enfants est supérieur à 10.\n",
    "- **EMPLOYMENT_DURATION :** Remplacement des valeurs -999  par NaN."
   ]
  },
  {
   "cell_type": "code",
   "execution_count": 21,
   "id": "aa8cd037-5821-4a96-8b89-06fffe692d9e",
   "metadata": {
    "tags": []
   },
   "outputs": [],
   "source": [
    "def modification_var_int64(data):\n",
    "    # Créer une copie pour éviter SettingWithCopyWarning\n",
    "    data = data[data['CNT_CHILDREN'] <= 10].copy() \n",
    "    \n",
    "    # Regrouper les valeurs 7, 8, 9, et 10 dans CNT_CHILDREN et les remplacer par '7+'\n",
    "    data['CNT_CHILDREN'] = data['CNT_CHILDREN'].replace({5:'5_plus', 6:'5_plus', 7:'5_plus',\n",
    "                                                         8:'5_plus', 9:'5_plus', 10:'5_plus'}).astype(str)\n",
    "    \n",
    "    # Remplacer -999 par NaN dans EMPLOYMENT_DURATION\n",
    "    data['EMPLOYMENT_DURATION'] = data['EMPLOYMENT_DURATION'].replace({-999: np.nan})\n",
    "    \n",
    "    return data\n"
   ]
  },
  {
   "cell_type": "code",
   "execution_count": 22,
   "id": "f8901d74-a6f4-46bb-9d1b-273076e9f4a3",
   "metadata": {
    "tags": []
   },
   "outputs": [],
   "source": [
    "##### Appel de la fonction pour modfication\n",
    "\n",
    "modified_train_int64 = modification_var_int64(train)\n",
    "modified_test_int64 = modification_var_int64(test)"
   ]
  },
  {
   "cell_type": "code",
   "execution_count": 23,
   "id": "2e665e24-1c1d-4916-8c04-a18886c830eb",
   "metadata": {
    "tags": []
   },
   "outputs": [
    {
     "name": "stdout",
     "output_type": "stream",
     "text": [
      "Vérifications pour le DataFrame train :\n",
      "Nombre de lignes avant modification :  307511\n",
      "Nombre de lignes après modification :  307503\n",
      "Nombre de valeurs NaN dans 'EMPLOYMENT_DURATION' :  55373\n",
      "Valeurs uniques dans 'CNT_CHILDREN' :  ['0' '1' '2' '3' '4' '5_plus']\n",
      "\n",
      "Vérifications pour le DataFrame test :\n",
      "Nombre de lignes avant modification :  48744\n",
      "Nombre de lignes après modification :  48741\n",
      "Nombre de valeurs NaN dans 'EMPLOYMENT_DURATION' (test) :  9274\n",
      "Valeurs uniques dans 'CNT_CHILDREN' (test) :  ['0' '2' '1' '3' '5_plus' '4']\n"
     ]
    }
   ],
   "source": [
    "# Vérification des modifications dans le DataFrame d'entraînement\n",
    "print(\"Vérifications pour le DataFrame train :\")\n",
    "print(\"Nombre de lignes avant modification : \", train.shape[0])\n",
    "print(\"Nombre de lignes après modification : \", modified_train_int64.shape[0])\n",
    "\n",
    "# Vérifier les valeurs NaN dans EMPLOYMENT_DURATION\n",
    "nan_count = modified_train_int64['EMPLOYMENT_DURATION'].isna().sum()\n",
    "print(\"Nombre de valeurs NaN dans 'EMPLOYMENT_DURATION' : \", nan_count)\n",
    "\n",
    "# Vérification des valeurs uniques de CNT_CHILDREN\n",
    "unique_children = modified_train_int64['CNT_CHILDREN'].unique()\n",
    "print(\"Valeurs uniques dans 'CNT_CHILDREN' : \", unique_children)\n",
    "\n",
    "# Vérification des modifications dans le DataFrame de test\n",
    "print(\"\\nVérifications pour le DataFrame test :\")\n",
    "print(\"Nombre de lignes avant modification : \", test.shape[0])\n",
    "print(\"Nombre de lignes après modification : \", modified_test_int64.shape[0])\n",
    "\n",
    "# Vérifier les valeurs NaN dans EMPLOYMENT_DURATION\n",
    "nan_count_test = modified_test_int64['EMPLOYMENT_DURATION'].isna().sum()\n",
    "print(\"Nombre de valeurs NaN dans 'EMPLOYMENT_DURATION' (test) : \", nan_count_test)\n",
    "\n",
    "# Vérification des valeurs uniques de CNT_CHILDREN\n",
    "unique_children_test = modified_test_int64['CNT_CHILDREN'].unique()\n",
    "print(\"Valeurs uniques dans 'CNT_CHILDREN' (test) : \", unique_children_test)\n"
   ]
  },
  {
   "cell_type": "markdown",
   "id": "231e0d8c-abc7-4b4c-9908-ad5dd14806b1",
   "metadata": {},
   "source": [
    "#### Vérification pour les types float64"
   ]
  },
  {
   "cell_type": "code",
   "execution_count": 24,
   "id": "47125d66-5b75-4a3f-b479-70dcb4e9430a",
   "metadata": {
    "tags": []
   },
   "outputs": [
    {
     "name": "stdout",
     "output_type": "stream",
     "text": [
      "nbre de varaibles: 66\n",
      "Aucune des colonnes float64 ne contient de valeurs infinies.\n"
     ]
    }
   ],
   "source": [
    "float_cols = modified_train_int64.select_dtypes(include=['float64']).columns\n",
    "print( \"nbre de varaibles:\" ,len(float_cols) )\n",
    "\n",
    "\n",
    "# Vérifier si des valeurs infinies existent dans les colonnes float\n",
    "if any(np.isinf(modified_train_int64[float_cols]).sum()):\n",
    "    print(\"Certaines colonnes contiennent des valeurs infinies.\")\n",
    "else:\n",
    "    print(\"Aucune des colonnes float64 ne contient de valeurs infinies.\")"
   ]
  },
  {
   "cell_type": "code",
   "execution_count": 25,
   "id": "c4329962-ce36-42da-9e04-6f81648d691d",
   "metadata": {
    "tags": []
   },
   "outputs": [
    {
     "name": "stdout",
     "output_type": "stream",
     "text": [
      "DAYS_REGISTRATION contient 307423 valeurs négatives\n",
      "DAYS_LAST_PHONE_CHANGE contient 269830 valeurs négatives\n"
     ]
    }
   ],
   "source": [
    "## On vérifie si y' a des valeurs négatives concernant le temps\n",
    "\n",
    "for col in float_cols:\n",
    "    negatives = modified_train_int64[modified_train_int64[col] < 0]\n",
    "    if not negatives.empty:\n",
    "        print(f\"{col} contient {len(negatives)} valeurs négatives\")"
   ]
  },
  {
   "cell_type": "code",
   "execution_count": 26,
   "id": "34fad365-bbe0-4091-936c-9489ab60f436",
   "metadata": {
    "tags": []
   },
   "outputs": [],
   "source": [
    "def convert_days_to_years(df, columns_to_convert):\n",
    "   \n",
    "    for col in columns_to_convert:\n",
    "        # Nouveau nom pour la colonne en années\n",
    "        new_col_name = f\"{col}_YEARS\"\n",
    "        \n",
    "        # Conversion des jours en années en gérant les valeurs manquantes\n",
    "        df[new_col_name] = abs(df[col]) / 365.25\n",
    "        \n",
    "        # Arrondir et convertir en entier tout en préservant les NaN\n",
    "        df[new_col_name] = df[new_col_name].round()\n",
    "        df[new_col_name] = df[new_col_name].astype('Int64')  # Type entier qui accepte NaN\n",
    "    \n",
    "    # Supprimer les colonnes originales\n",
    "    df.drop(columns=columns_to_convert, inplace=True)\n",
    "    \n",
    "    return df\n"
   ]
  },
  {
   "cell_type": "code",
   "execution_count": 27,
   "id": "a7bddf76-a9a0-4163-b674-939865cdddd0",
   "metadata": {
    "tags": []
   },
   "outputs": [],
   "source": [
    "## Appel de la fonction\n",
    "\n",
    "# Colonnes à convertir\n",
    "columns_to_convert = ['DAYS_REGISTRATION', 'DAYS_LAST_PHONE_CHANGE']\n",
    "\n",
    "# Appliquer la fonction pour le DataFrame de train\n",
    "modified_train_int64 = convert_days_to_years(modified_train_int64, columns_to_convert)\n",
    "\n",
    "# Appliquer la fonction pour le DataFrame de test\n",
    "modified_test_int64 = convert_days_to_years(modified_test_int64, columns_to_convert)"
   ]
  },
  {
   "cell_type": "code",
   "execution_count": 28,
   "id": "83710a6d-7658-4ec5-9122-1878daefe914",
   "metadata": {
    "tags": []
   },
   "outputs": [
    {
     "name": "stdout",
     "output_type": "stream",
     "text": [
      "(307503, 122)\n",
      "(48741, 121)\n"
     ]
    }
   ],
   "source": [
    "## Vérification\n",
    "print(modified_train_int64.shape)\n",
    "print(modified_test_int64.shape)"
   ]
  },
  {
   "cell_type": "markdown",
   "id": "e3d01bf0-704b-4a57-a688-1c6aaf5054f7",
   "metadata": {},
   "source": [
    "**Nous jetons un coup d'oeil rapides avec des stats descriptives sur les variables dates**"
   ]
  },
  {
   "cell_type": "code",
   "execution_count": 29,
   "id": "9021ec0d-4db7-4fec-ac5e-245d5db1cd91",
   "metadata": {
    "tags": []
   },
   "outputs": [
    {
     "name": "stdout",
     "output_type": "stream",
     "text": [
      "       DAYS_REGISTRATION_YEARS  DAYS_LAST_PHONE_CHANGE_YEARS\n",
      "count                 307503.0                      307502.0\n",
      "mean                      14.0                           3.0\n",
      "std                       10.0                           2.0\n",
      "min                        0.0                           0.0\n",
      "25%                        6.0                           1.0\n",
      "50%                       12.0                           2.0\n",
      "75%                       20.0                           4.0\n",
      "max                       68.0                          12.0 2\n"
     ]
    }
   ],
   "source": [
    "stats_in_years = modified_train_int64[['DAYS_REGISTRATION_YEARS', 'DAYS_LAST_PHONE_CHANGE_YEARS']].describe()\n",
    "\n",
    "# Afficher les statistiques\n",
    "print(round(stats_in_years),2)"
   ]
  },
  {
   "cell_type": "markdown",
   "id": "4d4a62c5-1e40-460d-90fa-ade89f077f23",
   "metadata": {},
   "source": [
    "**On constate :**\n",
    "\n",
    "- La durée d'enregistrement d'un client `(DAYS_REGISTRATION_YEARS)` est en moyenne de 14 ans, avec une médiane de 12 ans. Cependant, certaines données indiquent des enregistrements récents (0 ans) ou très anciens (jusqu'à 68 ans), ces derniers pouvant être rares ou suspects.\n",
    "- Le temps écoulé depuis le dernier changement de téléphone `(DAYS_LAST_PHONE_CHANGE_YEARS)` est en moyenne de 3 ans (médiane : 2 ans), avec des valeurs allant de 0 (changement très récent) à 12 ans, ce qui peut représenteréventuellement des cas inhabituels.\n",
    "\n",
    "\n",
    "**Pour traiter les anomalies identifiées dans les données, nous avons créé une fonction qui :**\n",
    "\n",
    "- Identifie les enregistrements suspects, tels que ceux avec une durée d'enregistrement très longue (> 55 ans), des enregistrements incohérents (avant la naissance ou moins de 17 ans après), ou égaux à l'âge du client.\n",
    "- Supprime ces enregistrements pour garantir des données cohérentes et fiables."
   ]
  },
  {
   "cell_type": "code",
   "execution_count": 30,
   "id": "eb747c22-1071-4c3d-aab3-5652a7d8ed3c",
   "metadata": {
    "tags": []
   },
   "outputs": [],
   "source": [
    "def clean_and_report_data(df):\n",
    "  \n",
    "    # Taille avant suppression\n",
    "    initial_size = df.shape[0]\n",
    "    print(f\"Taille du DataFrame avant suppression : {initial_size}\")\n",
    "    \n",
    "    # Filtrer les différents groupes d'enregistrements\n",
    "    old_registrations = df[df['DAYS_REGISTRATION_YEARS'] > 55]\n",
    "    registrations_near_birth = df[(df['AGE'] - df['DAYS_REGISTRATION_YEARS']) < 17]\n",
    "    reg_before_birth = df[df['DAYS_REGISTRATION_YEARS'] < 0]\n",
    "    age_to_regist = df[df['DAYS_REGISTRATION_YEARS'] == df['AGE']]\n",
    "    \n",
    "    # Afficher les statistiques\n",
    "    print(\"Nombre d'enregistrements de plus de 55 ans :\", len(old_registrations))\n",
    "    print(\"Nombre d'enregistrements faits moins de 17 ans après la naissance :\", len(registrations_near_birth))\n",
    "    print(\"Nombre de personne enregistrée avant sa naissance :\", len(reg_before_birth))\n",
    "    print(\"Nombre de personne enregistrée ayant le même âge :\", len(age_to_regist))\n",
    "\n",
    "    # Obtenir les indices des enregistrements à supprimer\n",
    "    indices_to_remove = set(old_registrations.index) \\\n",
    "        .union(set(registrations_near_birth.index)) \\\n",
    "        .union(set(reg_before_birth.index)) \\\n",
    "        .union(set(age_to_regist.index))\n",
    "    \n",
    "    # Supprimer les indices du DataFrame\n",
    "    cleaned_df = df.drop(index=indices_to_remove, errors='ignore')\n",
    "    \n",
    "    # Afficher le nombre total de lignes supprimées et la taille après suppression\n",
    "    print(f\"Nombre total de lignes supprimées : {len(indices_to_remove)}\")\n",
    "    print(f\"Taille du DataFrame après suppression : {cleaned_df.shape[0]}\")\n",
    "    \n",
    "    return cleaned_df\n"
   ]
  },
  {
   "cell_type": "code",
   "execution_count": 31,
   "id": "f84d5f34-2d62-4590-880f-ae8cda07c4ed",
   "metadata": {
    "tags": []
   },
   "outputs": [
    {
     "name": "stdout",
     "output_type": "stream",
     "text": [
      "Train :\n",
      "Taille du DataFrame avant suppression : 307503\n",
      "Nombre d'enregistrements de plus de 55 ans : 28\n",
      "Nombre d'enregistrements faits moins de 17 ans après la naissance : 47917\n",
      "Nombre de personne enregistrée avant sa naissance : 0\n",
      "Nombre de personne enregistrée ayant le même âge : 2895\n",
      "Nombre total de lignes supprimées : 47917\n",
      "Taille du DataFrame après suppression : 259586\n",
      "\n",
      "Test :\n",
      "Taille du DataFrame avant suppression : 48741\n",
      "Nombre d'enregistrements de plus de 55 ans : 3\n",
      "Nombre d'enregistrements faits moins de 17 ans après la naissance : 7727\n",
      "Nombre de personne enregistrée avant sa naissance : 0\n",
      "Nombre de personne enregistrée ayant le même âge : 442\n",
      "Nombre total de lignes supprimées : 7727\n",
      "Taille du DataFrame après suppression : 41014\n"
     ]
    }
   ],
   "source": [
    "## Appel de la fonction\n",
    "print(\"Train :\")\n",
    "modified_train_int_float= clean_and_report_data(modified_train_int64)\n",
    "\n",
    "print(\"\\nTest :\")\n",
    "modified_test_int_float= clean_and_report_data(modified_test_int64)"
   ]
  },
  {
   "cell_type": "markdown",
   "id": "6408d409-a83b-4a7b-a365-fc56b5ebca17",
   "metadata": {
    "tags": []
   },
   "source": [
    "#### Détection des valeurs aberrantes et extrêmes pour les autres variables\n",
    "\n",
    "1. **Valeurs aberrantes avec l'IQR** :\n",
    "   - L'IQR (Interquartile Range) est la différence entre le 75ᵉ (Q3) et le 25ᵉ (Q1) centile.\n",
    "   - Seuils de détection : \n",
    "     - **Inférieur** : \\( Q1 - 1.5 \\times IQR \\)\n",
    "     - **Supérieur** : \\( Q3 + 1.5 \\times IQR \\)\n",
    "   - Les valeurs en dehors de ces limites sont considérées comme **aberrantes**.\n",
    "\n",
    "2. **Identification des valeurs extrêmes** :\n",
    "   - Les valeurs supérieures au **95ᵉ centile** sont considérées comme **extrêmes**.\n",
    "\n",
    "3. **Proportion d'anomalies** :\n",
    "   - Si plus de **5 %** des valeurs d'une colonne sont aberrantes ou extrêmes, un message est affiché pour identifier les variables nécessitant une analyse ou un traitement spécifique.\n"
   ]
  },
  {
   "cell_type": "code",
   "execution_count": 32,
   "id": "c5eeab44-13ea-47af-b8fb-bf695249b719",
   "metadata": {
    "tags": []
   },
   "outputs": [
    {
     "name": "stdout",
     "output_type": "stream",
     "text": [
      "NONLIVINGAREA_AVG contient 13462 valeurs aberrantes selon l'IQR, ce qui représente plus de 5 % des données.\n",
      "NONLIVINGAREA_MODE contient 15341 valeurs aberrantes selon l'IQR, ce qui représente plus de 5 % des données.\n",
      "NONLIVINGAREA_MEDI contient 13986 valeurs aberrantes selon l'IQR, ce qui représente plus de 5 % des données.\n",
      "OBS_30_CNT_SOCIAL_CIRCLE contient 17007 valeurs aberrantes selon l'IQR, ce qui représente plus de 5 % des données.\n",
      "DEF_30_CNT_SOCIAL_CIRCLE contient 29689 valeurs aberrantes selon l'IQR, ce qui représente plus de 5 % des données.\n",
      "OBS_60_CNT_SOCIAL_CIRCLE contient 16672 valeurs aberrantes selon l'IQR, ce qui représente plus de 5 % des données.\n",
      "DEF_60_CNT_SOCIAL_CIRCLE contient 21683 valeurs aberrantes selon l'IQR, ce qui représente plus de 5 % des données.\n",
      "AMT_REQ_CREDIT_BUREAU_MON contient 36894 valeurs aberrantes selon l'IQR, ce qui représente plus de 5 % des données.\n",
      "AMT_REQ_CREDIT_BUREAU_QRT contient 43177 valeurs aberrantes selon l'IQR, ce qui représente plus de 5 % des données.\n"
     ]
    }
   ],
   "source": [
    "# On selectionne uniquement les types float64\n",
    "float_cols = modified_train_int_float.select_dtypes(include=['float64']).columns\n",
    "\n",
    "# Nombre total de lignes dans le DataFrame\n",
    "total_rows = len(modified_train_int_float)\n",
    "\n",
    "# Seuil pour 5 % des lignes\n",
    "threshold_5_percent = total_rows * 0.05\n",
    "\n",
    "# Détection des valeurs aberrantes et extrêmes avec IQR\n",
    "for col in float_cols:\n",
    "    # Calcul de l'IQR\n",
    "    Q1 = modified_train_int_float[col].quantile(0.25)\n",
    "    Q3 = modified_train_int_float[col].quantile(0.75)\n",
    "    IQR = Q3 - Q1\n",
    "\n",
    "    # Définir les seuils pour les valeurs aberrantes\n",
    "    lower_bound = Q1 - 1.5 * IQR\n",
    "    upper_bound = Q3 + 1.5 * IQR\n",
    "\n",
    "    # Détection des valeurs aberrantes\n",
    "    outlier_mask = (modified_train_int_float[col] < lower_bound) | (modified_train_int_float[col] > upper_bound)\n",
    "    num_outliers = outlier_mask.sum()\n",
    "\n",
    "    # Détection des valeurs extrêmes\n",
    "    high_threshold = modified_train_int_float[col].quantile(0.95)\n",
    "    extreme_values = modified_train_int_float[modified_train_int_float[col] > high_threshold]\n",
    "    num_extreme_values = len(extreme_values)\n",
    "\n",
    "    # Vérifier si le nombre de valeurs aberrantes dépasse 5 %\n",
    "    if num_outliers > threshold_5_percent:\n",
    "        print(f\"{col} contient {num_outliers} valeurs aberrantes selon l'IQR, ce qui représente plus de 5 % des données.\")\n",
    "\n",
    "    # Vérifier si le nombre de valeurs extrêmes dépasse 5 %\n",
    "    if num_extreme_values > threshold_5_percent:\n",
    "        print(f\"{col} contient {num_extreme_values} valeurs extrêmes, ce qui représente plus de 5 % des données.\")\n",
    "\n",
    "# Message si aucune colonne n'a plus de 5 % de valeurs aberrantes ou extrêmes\n",
    "if all(((modified_train_int_float[col] < (modified_train_int_float[col].quantile(0.25) - 1.5 * (modified_train_int_float[col].quantile(0.75) - modified_train_int_float[col].quantile(0.25)))).sum() + \n",
    "        (modified_train_int_float[col] > (modified_train_int_float[col].quantile(0.75) + 1.5 * (modified_train_int_float[col].quantile(0.75) - modified_train_int_float[col].quantile(0.25)))).sum()) <= threshold_5_percent for col in float_cols) and \\\n",
    "       all(len(modified_train_int_float[modified_train_int_float[col] > modified_train_int_float[col].quantile(0.95)]) <= threshold_5_percent for col in float_cols):\n",
    "    print(\"Aucune des variables n'a plus de 5 % de valeurs aberrantes ou extrêmes.\")\n"
   ]
  },
  {
   "cell_type": "markdown",
   "id": "53d502f8-b465-4945-b5eb-bebfb865b19d",
   "metadata": {},
   "source": [
    "**On jette un coup d'oeil rapide**"
   ]
  },
  {
   "cell_type": "code",
   "execution_count": 33,
   "id": "a922da0a-04de-43cb-8d09-783e67302e05",
   "metadata": {
    "tags": []
   },
   "outputs": [
    {
     "name": "stdout",
     "output_type": "stream",
     "text": [
      "       NONLIVINGAREA_AVG  NONLIVINGAREA_MODE  NONLIVINGAREA_MEDI  \\\n",
      "count      113331.000000       113331.000000       113331.000000   \n",
      "mean            0.028912            0.027613            0.028820   \n",
      "std             0.071104            0.071714            0.071714   \n",
      "min             0.000000            0.000000            0.000000   \n",
      "25%             0.000000            0.000000            0.000000   \n",
      "50%             0.003600            0.001200            0.003200   \n",
      "75%             0.028300            0.023700            0.027300   \n",
      "max             1.000000            1.000000            1.000000   \n",
      "\n",
      "       OBS_30_CNT_SOCIAL_CIRCLE  DEF_30_CNT_SOCIAL_CIRCLE  \\\n",
      "count             258785.000000             258785.000000   \n",
      "mean                   1.426470                  0.143625   \n",
      "std                    2.421654                  0.448029   \n",
      "min                    0.000000                  0.000000   \n",
      "25%                    0.000000                  0.000000   \n",
      "50%                    0.000000                  0.000000   \n",
      "75%                    2.000000                  0.000000   \n",
      "max                  348.000000                 34.000000   \n",
      "\n",
      "       OBS_60_CNT_SOCIAL_CIRCLE  DEF_60_CNT_SOCIAL_CIRCLE  \\\n",
      "count             258785.000000             258785.000000   \n",
      "mean                   1.409657                  0.099929   \n",
      "std                    2.400226                  0.362958   \n",
      "min                    0.000000                  0.000000   \n",
      "25%                    0.000000                  0.000000   \n",
      "50%                    0.000000                  0.000000   \n",
      "75%                    2.000000                  0.000000   \n",
      "max                  344.000000                 24.000000   \n",
      "\n",
      "       AMT_REQ_CREDIT_BUREAU_MON  AMT_REQ_CREDIT_BUREAU_QRT  \n",
      "count              226364.000000              226364.000000  \n",
      "mean                    0.264110                   0.266827  \n",
      "std                     0.903946                   0.822907  \n",
      "min                     0.000000                   0.000000  \n",
      "25%                     0.000000                   0.000000  \n",
      "50%                     0.000000                   0.000000  \n",
      "75%                     0.000000                   0.000000  \n",
      "max                    24.000000                 261.000000  \n"
     ]
    }
   ],
   "source": [
    "columns_with_outliers = [\n",
    "    'NONLIVINGAREA_AVG', 'NONLIVINGAREA_MODE', 'NONLIVINGAREA_MEDI',\n",
    "    'OBS_30_CNT_SOCIAL_CIRCLE', 'DEF_30_CNT_SOCIAL_CIRCLE',\n",
    "    'OBS_60_CNT_SOCIAL_CIRCLE', 'DEF_60_CNT_SOCIAL_CIRCLE',\n",
    "    'AMT_REQ_CREDIT_BUREAU_MON', 'AMT_REQ_CREDIT_BUREAU_QRT'\n",
    "]\n",
    "\n",
    "# Statistiques descriptives\n",
    "print(modified_train_int_float[columns_with_outliers].describe())\n"
   ]
  },
  {
   "cell_type": "code",
   "execution_count": 34,
   "id": "f9d82fb0-0aa3-42ac-9962-8814154b22e5",
   "metadata": {
    "tags": []
   },
   "outputs": [
    {
     "data": {
      "image/png": "[encoded data removed]",
      "text/plain": [
       "<Figure size 1080x1080 with 8 Axes>"
      ]
     },
     "metadata": {
      "needs_background": "light"
     },
     "output_type": "display_data"
    }
   ],
   "source": [
    "fig, axes = plt.subplots(nrows=len(columns_with_outliers) // 2, ncols=2, figsize=(15, 15))\n",
    "\n",
    "# Boucler sur les colonnes et les axes\n",
    "for ax, col in zip(axes.flat, columns_with_outliers):\n",
    "    sns.boxplot(x=modified_train_int_float[col], ax=ax)\n",
    "    ax.set_title(f'Boxplot de {col}')\n",
    "    ax.set_xlabel('Valeurs')\n",
    "\n",
    "# Ajuster la mise en page\n",
    "plt.tight_layout()\n",
    "plt.show()\n"
   ]
  },
  {
   "cell_type": "markdown",
   "id": "2719a6cd-e914-43fc-aad3-84416f495c2f",
   "metadata": {
    "tags": []
   },
   "source": [
    "on consate plusieurs élements sur les variables contenant des valeurs anormales ou extrêmes\n",
    "\n",
    "1. **AMT_REQ_CREDIT_BUREAU_MON, AMT_REQ_CREDIT_BUREAU_QRT** :\n",
    "   - **AMT_REQ_CREDIT_BUREAU_MON** (demandes mensuelles de crédit) :\n",
    "     - Moyenne : 0.26, Médiane : 0, Maximum : 24.\n",
    "     - La majorité des individus ont peu ou pas de demandes, mais des valeurs élevées, comme 24, suggèrent une activité de crédit excessive ou une anomalie.\n",
    "   \n",
    "   - **AMT_REQ_CREDIT_BUREAU_QRT** (demandes trimestrielles de crédit) :\n",
    "     - Moyenne : 0.27, Médiane : 0, Maximum : 261.\n",
    "     - Bien que rares, des valeurs extrêmes comme 261 signalent probablement des erreurs ou des comportements atypiques.\n",
    "\n",
    "2. **OBS_60_CNT_SOCIAL_CIRCLE, DEF_60_CNT_SOCIAL_CIRCLE** :\n",
    "   - **OBS_60_CNT_SOCIAL_CIRCLE** (observations sociales sur 60 jours) :\n",
    "     - Moyenne : 1.41, Médiane : 0, Maximum : 344.\n",
    "     - Les valeurs élevées comme 344 sont des anomalies, pouvant indiquer un comportement social atypique ou une erreur de saisie.\n",
    "   \n",
    "   - **DEF_60_CNT_SOCIAL_CIRCLE** (défauts sociaux sur 60 jours) :\n",
    "     - Moyenne : 0.14, Médiane : 0, Maximum : 34.\n",
    "     - Des valeurs élevées comme 34 sont rares et suggèrent des erreurs ou des comportements inhabituels.\n",
    "\n",
    "3. **OBS_30_CNT_SOCIAL_CIRCLE, DEF_30_CNT_SOCIAL_CIRCLE** :\n",
    "   - **OBS_30_CNT_SOCIAL_CIRCLE** (observations sociales sur 30 jours) :\n",
    "     - Moyenne : 1.41, Médiane : 0, Maximum : 348.\n",
    "     - Une valeur aussi élevée que 348 est une anomalie marquée.\n",
    "   \n",
    "   - **DEF_30_CNT_SOCIAL_CIRCLE** (défauts sociaux sur 30 jours) :\n",
    "     - Moyenne : 0.10, Médiane : 0, Maximum : 24.\n",
    "     - Des valeurs comme 24 sont significativement élevées, suggérant des erreurs ou des comportements atypiques.\n"
   ]
  },
  {
   "cell_type": "markdown",
   "id": "c42aa145-296d-4ded-9885-d7b4786a2554",
   "metadata": {
    "tags": []
   },
   "source": [
    "**Nous allons supprimer ces lignes** afin d'assurer que les données utilisées pour l'analyse sont représentatives et ne biaisent pas les résultats."
   ]
  },
  {
   "cell_type": "code",
   "execution_count": 35,
   "id": "38dc8dde-e90e-44ff-98a5-7f3d49f849b0",
   "metadata": {
    "tags": []
   },
   "outputs": [
    {
     "name": "stdout",
     "output_type": "stream",
     "text": [
      "Avant suppression : Taille du DataFrame : 259586\n",
      "Pour la colonne 'OBS_60_CNT_SOCIAL_CIRCLE', l'indice avec la valeur maximale est 148403\n",
      "Pour la colonne 'DEF_60_CNT_SOCIAL_CIRCLE', l'indice avec la valeur maximale est 148403\n",
      "Pour la colonne 'DEF_30_CNT_SOCIAL_CIRCLE', l'indice avec la valeur maximale est 148403\n",
      "Pour la colonne 'OBS_30_CNT_SOCIAL_CIRCLE', l'indice avec la valeur maximale est 148403\n",
      "Pour la colonne 'AMT_REQ_CREDIT_BUREAU_MON', l'indice avec la valeur maximale est 12869\n",
      "Pour la colonne 'AMT_REQ_CREDIT_BUREAU_QRT', l'indice avec la valeur maximale est 239474\n",
      "Après suppression : Taille du DataFrame : 259583\n"
     ]
    }
   ],
   "source": [
    "# Liste des colonnes d'intérêt\n",
    "cols = ['OBS_60_CNT_SOCIAL_CIRCLE', 'DEF_60_CNT_SOCIAL_CIRCLE', \n",
    "        'DEF_30_CNT_SOCIAL_CIRCLE', 'OBS_30_CNT_SOCIAL_CIRCLE', \n",
    "        'AMT_REQ_CREDIT_BUREAU_MON', 'AMT_REQ_CREDIT_BUREAU_QRT']\n",
    "\n",
    "# Récupérer les lignes avec les valeurs maximales pour chaque colonne\n",
    "print(\"Avant suppression : Taille du DataFrame :\", modified_train_int_float.shape[0])  # Taille avant suppression\n",
    "\n",
    "# Identifier les indices des lignes avec les valeurs maximales\n",
    "indices_to_remove = []\n",
    "\n",
    "for col in cols:\n",
    "    max_idx = modified_train_int_float[col].idxmax()  # Récupère l'indice de la valeur maximale\n",
    "    indices_to_remove.append(max_idx)  # Ajouter l'indice à la liste\n",
    "    print(f\"Pour la colonne '{col}', l'indice avec la valeur maximale est {max_idx}\")\n",
    "\n",
    "# Supprimer les lignes avec ces indices\n",
    "modified_train_int_float_cleaned = modified_train_int_float.drop(indices_to_remove, errors='ignore')\n",
    "\n",
    "# Vérifier la taille après suppression\n",
    "print(\"Après suppression : Taille du DataFrame :\", modified_train_int_float_cleaned.shape[0])  # Taille après suppression\n",
    "\n"
   ]
  },
  {
   "cell_type": "markdown",
   "id": "291c6ca3-3228-44de-9a29-791b87297e0f",
   "metadata": {},
   "source": [
    "### 1.2.3 Gestion des Variables Catégorielles\n",
    "\n",
    "Pour simplifier et rendre les variables catégorielles exploitables dans notre modèle, nous utilisons deux fonctions principales qui abordent différents types de modalités.\n",
    "\n",
    "#### Étapes principales :\n",
    "1. **Identification des caractéristiques des modalités** :\n",
    "   - **Modalités uniques** : Nous identifions les colonnes où toutes les valeurs sont identiques.\n",
    "   - **Cardinalité élevée** : Détecter les colonnes ayant un grand nombre de catégories distinctes.\n",
    "   - **Modalités rares** : Identifier les catégories présentes dans très peu d'observations.\n",
    "\n",
    "2. **Traitement des variables catégorielles** :\n",
    "   - **Cardinalité élevée** : Utilisation d'un encodage par catégories fréquentes (frequent category encoding) ou regroupement des catégories rares sous un seuil de fréquence minimal.\n",
    "   - **Modalités rares** : Fusion des catégories peu fréquentes sous une étiquette \"Autres\" ou suppression selon leur pertinence.\n",
    "   - **Modalités uniques ou constantes** : Suppression des colonnes ne contenant qu'une seule modalité pour éviter d'ajouter du bruit inutile.\n",
    "\n",
    "\n",
    "Ces transformations sont uniquement appliquées sur l’ensemble d’entraînement (train). Les mêmes règles sont ensuite appliquées au jeu de test sans ré-entraînement ou recalcul des seuils pour éviter le *data leakage*.\n",
    "\n"
   ]
  },
  {
   "cell_type": "code",
   "execution_count": 36,
   "id": "dd3bc5b4-7fcc-49eb-933a-0a7e9895eef3",
   "metadata": {
    "tags": []
   },
   "outputs": [
    {
     "name": "stdout",
     "output_type": "stream",
     "text": [
      "Colonne : NAME_CONTRACT_TYPE\n",
      "Types uniques : [<class 'str'>]\n",
      "Statut : Cette colonne a un type unique.\n",
      "Modalités et leurs occurrences :\n",
      "Cash loans         236875\n",
      "Revolving loans     22711\n",
      "Name: NAME_CONTRACT_TYPE, dtype: int64\n",
      "-----\n",
      "Colonne : CODE_GENDER\n",
      "Types uniques : [<class 'str'>]\n",
      "Statut : Cette colonne a un type unique.\n",
      "Modalités et leurs occurrences :\n",
      "F      174980\n",
      "M       84603\n",
      "XNA         3\n",
      "Name: CODE_GENDER, dtype: int64\n",
      "-----\n",
      "Colonne : FLAG_OWN_CAR\n",
      "Types uniques : [<class 'str'>]\n",
      "Statut : Cette colonne a un type unique.\n",
      "Modalités et leurs occurrences :\n",
      "N    172466\n",
      "Y     87120\n",
      "Name: FLAG_OWN_CAR, dtype: int64\n",
      "-----\n",
      "Colonne : FLAG_OWN_REALTY\n",
      "Types uniques : [<class 'str'>]\n",
      "Statut : Cette colonne a un type unique.\n",
      "Modalités et leurs occurrences :\n",
      "Y    183427\n",
      "N     76159\n",
      "Name: FLAG_OWN_REALTY, dtype: int64\n",
      "-----\n",
      "Colonne : CNT_CHILDREN\n",
      "Types uniques : [<class 'str'>]\n",
      "Statut : Cette colonne a un type unique.\n",
      "Modalités et leurs occurrences :\n",
      "0         184867\n",
      "1          48286\n",
      "2          22611\n",
      "3           3323\n",
      "4            388\n",
      "5_plus       111\n",
      "Name: CNT_CHILDREN, dtype: int64\n",
      "-----\n",
      "Colonne : NAME_TYPE_SUITE\n",
      "Types uniques : [<class 'str'> <class 'float'>]\n",
      "Statut : Cette colonne contient des types mixtes.\n",
      "Modalités et leurs occurrences :\n",
      "Unaccompanied      208903\n",
      "Family              34707\n",
      "Spouse, partner      9683\n",
      "Children             2998\n",
      "Other_B              1395\n",
      "NaN                  1044\n",
      "Other_A               616\n",
      "Group of people       240\n",
      "Name: NAME_TYPE_SUITE, dtype: int64\n",
      "-----\n",
      "Colonne : NAME_INCOME_TYPE\n",
      "Types uniques : [<class 'str'>]\n",
      "Statut : Cette colonne a un type unique.\n",
      "Modalités et leurs occurrences :\n",
      "Working                 130054\n",
      "Commercial associate     56410\n",
      "Pensioner                54710\n",
      "State servant            18369\n",
      "Unemployed                  18\n",
      "Student                     13\n",
      "Businessman                  9\n",
      "Maternity leave              3\n",
      "Name: NAME_INCOME_TYPE, dtype: int64\n",
      "-----\n",
      "Colonne : NAME_EDUCATION_TYPE\n",
      "Types uniques : [<class 'str'>]\n",
      "Statut : Cette colonne a un type unique.\n",
      "Modalités et leurs occurrences :\n",
      "Secondary / secondary special    188580\n",
      "Higher education                  60872\n",
      "Incomplete higher                  6616\n",
      "Lower secondary                    3374\n",
      "Academic degree                     144\n",
      "Name: NAME_EDUCATION_TYPE, dtype: int64\n",
      "-----\n",
      "Colonne : NAME_FAMILY_STATUS\n",
      "Types uniques : [<class 'str'>]\n",
      "Statut : Cette colonne a un type unique.\n",
      "Modalités et leurs occurrences :\n",
      "Married                 171771\n",
      "Single / not married     31089\n",
      "Civil marriage           23550\n",
      "Separated                17456\n",
      "Widow                    15718\n",
      "Unknown                      2\n",
      "Name: NAME_FAMILY_STATUS, dtype: int64\n",
      "-----\n",
      "Colonne : NAME_HOUSING_TYPE\n",
      "Types uniques : [<class 'str'>]\n",
      "Statut : Cette colonne a un type unique.\n",
      "Modalités et leurs occurrences :\n",
      "House / apartment      235195\n",
      "Municipal apartment      9212\n",
      "With parents             8498\n",
      "Rented apartment         3564\n",
      "Office apartment         2296\n",
      "Co-op apartment           821\n",
      "Name: NAME_HOUSING_TYPE, dtype: int64\n",
      "-----\n",
      "Colonne : OCCUPATION_TYPE\n",
      "Types uniques : [<class 'str'> <class 'float'>]\n",
      "Statut : Cette colonne contient des types mixtes.\n",
      "Modalités et leurs occurrences :\n",
      "NaN                      87776\n",
      "Laborers                 44462\n",
      "Sales staff              24997\n",
      "Core staff               21728\n",
      "Managers                 18381\n",
      "Drivers                  15443\n",
      "High skill tech staff     9065\n",
      "Accountants               8085\n",
      "Medicine staff            7413\n",
      "Security staff            5904\n",
      "Cooking staff             5042\n",
      "Cleaning staff            4213\n",
      "Private service staff     2139\n",
      "Low-skill Laborers        1626\n",
      "Secretaries               1010\n",
      "Waiters/barmen staff       922\n",
      "Realty agents              586\n",
      "HR staff                   441\n",
      "IT staff                   353\n",
      "Name: OCCUPATION_TYPE, dtype: int64\n",
      "-----\n",
      "Colonne : WEEKDAY_APPR_PROCESS_START\n",
      "Types uniques : [<class 'str'>]\n",
      "Statut : Cette colonne a un type unique.\n",
      "Modalités et leurs occurrences :\n",
      "TUESDAY      45652\n",
      "WEDNESDAY    43895\n",
      "MONDAY       42828\n",
      "THURSDAY     42743\n",
      "FRIDAY       42693\n",
      "SATURDAY     28577\n",
      "SUNDAY       13198\n",
      "Name: WEEKDAY_APPR_PROCESS_START, dtype: int64\n",
      "-----\n",
      "Colonne : ORGANIZATION_TYPE\n",
      "Types uniques : [<class 'str'>]\n",
      "Statut : Cette colonne a un type unique.\n",
      "Modalités et leurs occurrences :\n",
      "XNA                       54719\n",
      "Business Entity Type 3    53292\n",
      "Self-employed             31432\n",
      "Other                     14133\n",
      "Medicine                   9788\n",
      "Government                 8879\n",
      "Business Entity Type 2     8475\n",
      "School                     7916\n",
      "Trade: type 7              6351\n",
      "Kindergarten               5872\n",
      "Construction               5503\n",
      "Business Entity Type 1     4644\n",
      "Transport: type 4          4337\n",
      "Industry: type 9           2874\n",
      "Industry: type 3           2753\n",
      "Security                   2744\n",
      "Housing                    2592\n",
      "Trade: type 3              2567\n",
      "Military                   2264\n",
      "Industry: type 11          2206\n",
      "Agriculture                2196\n",
      "Postal                     1858\n",
      "Police                     1784\n",
      "Transport: type 2          1772\n",
      "Bank                       1678\n",
      "Security Ministries        1567\n",
      "Restaurant                 1429\n",
      "Services                   1277\n",
      "University                 1133\n",
      "Industry: type 7           1035\n",
      "Transport: type 3           985\n",
      "Trade: type 2               940\n",
      "Industry: type 1            827\n",
      "Hotel                       824\n",
      "Electricity                 802\n",
      "Industry: type 4            657\n",
      "Trade: type 6               523\n",
      "Insurance                   478\n",
      "Industry: type 5            473\n",
      "Emergency                   472\n",
      "Telecom                     423\n",
      "Industry: type 2            368\n",
      "Realtor                     336\n",
      "Advertising                 322\n",
      "Culture                     318\n",
      "Industry: type 12           304\n",
      "Legal Services              242\n",
      "Trade: type 1               236\n",
      "Cleaning                    215\n",
      "Mobile                      201\n",
      "Transport: type 1           165\n",
      "Industry: type 6             85\n",
      "Industry: type 10            83\n",
      "Religion                     80\n",
      "Industry: type 13            53\n",
      "Trade: type 4                45\n",
      "Trade: type 5                41\n",
      "Industry: type 8             18\n",
      "Name: ORGANIZATION_TYPE, dtype: int64\n",
      "-----\n",
      "Colonne : FONDKAPREMONT_MODE\n",
      "Types uniques : [<class 'str'> <class 'float'>]\n",
      "Statut : Cette colonne contient des types mixtes.\n",
      "Modalités et leurs occurrences :\n",
      "NaN                      179500\n",
      "reg oper account          60678\n",
      "reg oper spec account     10014\n",
      "not specified              4801\n",
      "org spec account           4593\n",
      "Name: FONDKAPREMONT_MODE, dtype: int64\n",
      "-----\n",
      "Colonne : HOUSETYPE_MODE\n",
      "Types uniques : [<class 'str'> <class 'float'>]\n",
      "Statut : Cette colonne contient des types mixtes.\n",
      "Modalités et leurs occurrences :\n",
      "NaN                 133497\n",
      "block of flats      123728\n",
      "specific housing      1355\n",
      "terraced house        1006\n",
      "Name: HOUSETYPE_MODE, dtype: int64\n",
      "-----\n",
      "Colonne : WALLSMATERIAL_MODE\n",
      "Types uniques : [<class 'str'> <class 'float'>]\n",
      "Statut : Cette colonne contient des types mixtes.\n",
      "Modalités et leurs occurrences :\n",
      "NaN             135185\n",
      "Stone, brick     53955\n",
      "Panel            53285\n",
      "Block             7612\n",
      "Wooden            4545\n",
      "Mixed             2003\n",
      "Monolithic        1640\n",
      "Others            1361\n",
      "Name: WALLSMATERIAL_MODE, dtype: int64\n",
      "-----\n",
      "Colonne : EMERGENCYSTATE_MODE\n",
      "Types uniques : [<class 'str'> <class 'float'>]\n",
      "Statut : Cette colonne contient des types mixtes.\n",
      "Modalités et leurs occurrences :\n",
      "No     131238\n",
      "NaN    126401\n",
      "Yes      1947\n",
      "Name: EMERGENCYSTATE_MODE, dtype: int64\n",
      "-----\n"
     ]
    }
   ],
   "source": [
    "def classifier_colonnes_par_type(file_train):\n",
    "    # Listes pour stocker les colonnes par type\n",
    "    colonnes_obj = []  # Colonnes de type 'object'\n",
    "\n",
    "    # Boucle pour chaque colonne du DataFrame\n",
    "    for col in file_train.columns:\n",
    "        # Vérifier le type de chaque colonne\n",
    "        dtype = str(file_train[col].dtype)  # Récupérer le type sous forme de chaîne\n",
    "\n",
    "        if dtype == \"object\":\n",
    "            colonnes_obj.append(col)  # Ajouter à la liste des colonnes de type 'object'\n",
    "\n",
    "    # Boucle sur chaque colonne de type 'object'\n",
    "    for col in colonnes_obj:\n",
    "        print(f\"Colonne : {col}\")  # Afficher le nom de la colonne\n",
    "       # print(\"Valeurs uniques :\", file_train[col].unique())  # Afficher les valeurs uniques\n",
    "        \n",
    "        # Obtenir et afficher les types uniques dans la colonne\n",
    "        types_uniques = file_train[col].apply(type).unique()\n",
    "        print(\"Types uniques :\", types_uniques)  # Afficher les types uniques dans la colonne\n",
    "        \n",
    "        # Vérifier si la colonne a des types uniques ou mixtes\n",
    "        if len(types_uniques) > 1:\n",
    "            print(\"Statut : Cette colonne contient des types mixtes.\")\n",
    "        else:\n",
    "            print(\"Statut : Cette colonne a un type unique.\")\n",
    "        \n",
    "        # Nombre de chaque modalité\n",
    "        modality_counts = file_train[col].value_counts(dropna=False)\n",
    "        print(\"Modalités et leurs occurrences :\")\n",
    "        print(modality_counts)\n",
    "        print(\"-----\")  # Ligne de séparation pour la lisibilité\n",
    "\n",
    "\n",
    "### Appel de la fonction\n",
    "classifier_colonnes_par_type(modified_train_int_float)\n"
   ]
  },
  {
   "cell_type": "code",
   "execution_count": 37,
   "id": "7f25c4bb-91e7-46e9-8d94-9e3fe8a88f03",
   "metadata": {
    "tags": []
   },
   "outputs": [],
   "source": [
    "\n",
    "def regrouper_modalites(df):\n",
    "    \n",
    "    df['ORGANIZATION_TYPE'] = df['ORGANIZATION_TYPE'].replace({\n",
    "        'Trade: type 1': 'Trade', 'Trade: type 2': 'Trade', 'Trade: type 3': 'Trade', \n",
    "        'Trade: type 4': 'Trade', 'Trade: type 5': 'Trade', 'Trade: type 6': 'Trade', \n",
    "        'Trade: type 7': 'Trade',\n",
    "\n",
    "        'Industry: type 1': 'Industry', 'Industry: type 2': 'Industry', 'Industry: type 3': 'Industry',\n",
    "        'Industry: type 4': 'Industry', 'Industry: type 5': 'Industry', 'Industry: type 6': 'Industry',\n",
    "        'Industry: type 7': 'Industry', 'Industry: type 8': 'Industry', 'Industry: type 9': 'Industry',\n",
    "        'Industry: type 10': 'Industry', 'Industry: type 11': 'Industry', 'Industry: type 12': 'Industry',\n",
    "        'Industry: type 13': 'Industry',\n",
    "\n",
    "        'Business Entity Type 1': 'Business_Entity', 'Business Entity Type 2': 'Business_Entity',\n",
    "        'Business Entity Type 3': 'Business_Entity',\n",
    "    \n",
    "        'Construction': 'Batiment_gros_petit_oeuvre', \n",
    "        'Electricity': 'Batiment_gros_petit_oeuvre',  # Ajout de la virgule manquante\n",
    "\n",
    "        'Government': 'Public_Services', 'Police': 'Public_Services', 'Postal': 'Public_Services',\n",
    "        'Security Ministries': 'Public_Services',\n",
    "\n",
    "        'School': 'Education_Services', 'Kindergarten': 'Education_Services', 'University': 'Education_Services',\n",
    "\n",
    "        'Transport: type 1': 'Transport', 'Transport: type 2': 'Transport', 'Transport: type 3': 'Transport', \n",
    "        'Transport: type 4': 'Transport',\n",
    "\n",
    "        'Bank': 'Finance', 'Insurance': 'Finance',\n",
    "\n",
    "        'Services': 'Services', 'Restaurant': 'Services', 'Hotel': 'Services', 'Cleaning': 'Services',\n",
    "\n",
    "        'Realtor': 'Real_Estate', 'Housing': 'Real_Estate',\n",
    "\n",
    "        'Telecom': 'Other', 'Emergency': 'Other', 'Advertising': 'Other', 'Culture': 'Other',      \n",
    "        'Mobile': 'Other', 'Legal Services': 'Other', 'Religion': 'Other', 'Military': 'Other',\n",
    "\n",
    "        'XNA': np.nan  # Remplacer 'XNA' par NaN\n",
    "    })\n",
    "\n",
    "    # Remplacer les modalités dans d'autres colonnes\n",
    "    df['NAME_TYPE_SUITE'] = df['NAME_TYPE_SUITE'].replace(['Other_A', 'Other_B', 'Group of people'], 'Other')\n",
    "\n",
    "    df['NAME_EDUCATION_TYPE'] = df['NAME_EDUCATION_TYPE'].replace(\n",
    "        ['Incomplete higher', 'Lower secondary', 'Academic degree'], 'Other')\n",
    "\n",
    "    df['NAME_HOUSING_TYPE'] = df['NAME_HOUSING_TYPE'].replace(\n",
    "        ['Rented apartment', 'Office apartment', 'Co-op apartment'], 'Other housing types')\n",
    "\n",
    "    df['OCCUPATION_TYPE'] = df['OCCUPATION_TYPE'].replace(\n",
    "        ['Private service staff', 'Low-skill Laborers', 'Waiters/barmen staff', 'Secretaries', \n",
    "         'Realty agents', 'HR staff', 'IT staff'], 'Other_specialized')\n",
    "\n",
    "    df['WALLSMATERIAL_MODE'] = df['WALLSMATERIAL_MODE'].replace({'Others': np.nan})\n",
    "\n",
    "    return df\n",
    "\n",
    "\n",
    "def supprimer_valeur(df):\n",
    "    # Supprimer les valeurs manquantes de NAME_TYPE_SUITE\n",
    "    df = df.dropna(subset=['NAME_TYPE_SUITE'])\n",
    "\n",
    "    # Filtrer les lignes avec certaines modalités de NAME_INCOME_TYPE\n",
    "    df = df[~df['NAME_INCOME_TYPE'].isin(['Unemployed', 'Student', 'Businessman', 'Maternity leave'])]\n",
    "\n",
    "    # Exclure les lignes avec CODE_GENDER 'XNA' et NAME_FAMILY_STATUS 'Unknown'\n",
    "    df = df[df['CODE_GENDER'] != 'XNA']\n",
    "    df = df[df['NAME_FAMILY_STATUS'] != 'Unknown']\n",
    "\n",
    "    return df\n",
    "\n"
   ]
  },
  {
   "cell_type": "markdown",
   "id": "e6f92e1b-966c-4b07-9c26-562486384119",
   "metadata": {},
   "source": [
    "##### Modification pour Train et test"
   ]
  },
  {
   "cell_type": "code",
   "execution_count": 38,
   "id": "eca0de8e-0693-451f-9f03-3e1bf9fa0982",
   "metadata": {
    "tags": []
   },
   "outputs": [],
   "source": [
    "# Modification pour Train\n",
    "train_propre = regrouper_modalites(modified_train_int_float)\n",
    "train_propre = supprimer_valeur(modified_train_int_float)\n",
    "\n",
    "# Modification pour Train\n",
    "test_propre = regrouper_modalites(modified_test_int_float)\n",
    "test_propre = supprimer_valeur(modified_test_int_float)\n"
   ]
  },
  {
   "cell_type": "markdown",
   "id": "93f131b4-585a-4e33-8500-300f09be5201",
   "metadata": {},
   "source": [
    "##### Vérification des changements "
   ]
  },
  {
   "cell_type": "code",
   "execution_count": 39,
   "id": "aaa59b23-bbf3-42a8-900c-5a514f26886a",
   "metadata": {
    "tags": []
   },
   "outputs": [
    {
     "name": "stdout",
     "output_type": "stream",
     "text": [
      "Colonne : NAME_CONTRACT_TYPE\n",
      "Types uniques : [<class 'str'>]\n",
      "Statut : Cette colonne a un type unique.\n",
      "Modalités et leurs occurrences :\n",
      "Cash loans         236015\n",
      "Revolving loans     22481\n",
      "Name: NAME_CONTRACT_TYPE, dtype: int64\n",
      "-----\n",
      "Colonne : CODE_GENDER\n",
      "Types uniques : [<class 'str'>]\n",
      "Statut : Cette colonne a un type unique.\n",
      "Modalités et leurs occurrences :\n",
      "F    174304\n",
      "M     84192\n",
      "Name: CODE_GENDER, dtype: int64\n",
      "-----\n",
      "Colonne : FLAG_OWN_CAR\n",
      "Types uniques : [<class 'str'>]\n",
      "Statut : Cette colonne a un type unique.\n",
      "Modalités et leurs occurrences :\n",
      "N    171725\n",
      "Y     86771\n",
      "Name: FLAG_OWN_CAR, dtype: int64\n",
      "-----\n",
      "Colonne : FLAG_OWN_REALTY\n",
      "Types uniques : [<class 'str'>]\n",
      "Statut : Cette colonne a un type unique.\n",
      "Modalités et leurs occurrences :\n",
      "Y    183016\n",
      "N     75480\n",
      "Name: FLAG_OWN_REALTY, dtype: int64\n",
      "-----\n",
      "Colonne : CNT_CHILDREN\n",
      "Types uniques : [<class 'str'>]\n",
      "Statut : Cette colonne a un type unique.\n",
      "Modalités et leurs occurrences :\n",
      "0         184103\n",
      "1          48078\n",
      "2          22511\n",
      "3           3307\n",
      "4            386\n",
      "5_plus       111\n",
      "Name: CNT_CHILDREN, dtype: int64\n",
      "-----\n",
      "Colonne : NAME_TYPE_SUITE\n",
      "Types uniques : [<class 'str'>]\n",
      "Statut : Cette colonne a un type unique.\n",
      "Modalités et leurs occurrences :\n",
      "Unaccompanied      208862\n",
      "Family              34704\n",
      "Spouse, partner      9682\n",
      "Children             2998\n",
      "Other                2250\n",
      "Name: NAME_TYPE_SUITE, dtype: int64\n",
      "-----\n",
      "Colonne : NAME_INCOME_TYPE\n",
      "Types uniques : [<class 'str'>]\n",
      "Statut : Cette colonne a un type unique.\n",
      "Modalités et leurs occurrences :\n",
      "Working                 129543\n",
      "Commercial associate     56137\n",
      "Pensioner                54517\n",
      "State servant            18299\n",
      "Name: NAME_INCOME_TYPE, dtype: int64\n",
      "-----\n",
      "Colonne : NAME_EDUCATION_TYPE\n",
      "Types uniques : [<class 'str'>]\n",
      "Statut : Cette colonne a un type unique.\n",
      "Modalités et leurs occurrences :\n",
      "Secondary / secondary special    187886\n",
      "Higher education                  60501\n",
      "Other                             10109\n",
      "Name: NAME_EDUCATION_TYPE, dtype: int64\n",
      "-----\n",
      "Colonne : NAME_FAMILY_STATUS\n",
      "Types uniques : [<class 'str'>]\n",
      "Statut : Cette colonne a un type unique.\n",
      "Modalités et leurs occurrences :\n",
      "Married                 171067\n",
      "Single / not married     30931\n",
      "Civil marriage           23463\n",
      "Separated                17388\n",
      "Widow                    15647\n",
      "Name: NAME_FAMILY_STATUS, dtype: int64\n",
      "-----\n",
      "Colonne : NAME_HOUSING_TYPE\n",
      "Types uniques : [<class 'str'>]\n",
      "Statut : Cette colonne a un type unique.\n",
      "Modalités et leurs occurrences :\n",
      "House / apartment      234201\n",
      "Municipal apartment      9186\n",
      "With parents             8464\n",
      "Other housing types      6645\n",
      "Name: NAME_HOUSING_TYPE, dtype: int64\n",
      "-----\n",
      "Colonne : OCCUPATION_TYPE\n",
      "Types uniques : [<class 'str'> <class 'float'>]\n",
      "Statut : Cette colonne contient des types mixtes.\n",
      "Modalités et leurs occurrences :\n",
      "NaN                      87419\n",
      "Laborers                 44282\n",
      "Sales staff              24896\n",
      "Core staff               21617\n",
      "Managers                 18299\n",
      "Drivers                  15373\n",
      "High skill tech staff     9024\n",
      "Accountants               8047\n",
      "Medicine staff            7390\n",
      "Other_specialized         7034\n",
      "Security staff            5883\n",
      "Cooking staff             5029\n",
      "Cleaning staff            4203\n",
      "Name: OCCUPATION_TYPE, dtype: int64\n",
      "-----\n",
      "Colonne : WEEKDAY_APPR_PROCESS_START\n",
      "Types uniques : [<class 'str'>]\n",
      "Statut : Cette colonne a un type unique.\n",
      "Modalités et leurs occurrences :\n",
      "TUESDAY      45453\n",
      "WEDNESDAY    43712\n",
      "MONDAY       42683\n",
      "THURSDAY     42545\n",
      "FRIDAY       42526\n",
      "SATURDAY     28432\n",
      "SUNDAY       13145\n",
      "Name: WEEKDAY_APPR_PROCESS_START, dtype: int64\n",
      "-----\n",
      "Colonne : ORGANIZATION_TYPE\n",
      "Types uniques : [<class 'str'> <class 'float'>]\n",
      "Statut : Cette colonne contient des types mixtes.\n",
      "Modalités et leurs occurrences :\n",
      "Business_Entity               66131\n",
      "NaN                           54510\n",
      "Self-employed                 31304\n",
      "Other                         18380\n",
      "Education_Services            14862\n",
      "Public_Services               14032\n",
      "Industry                      11691\n",
      "Trade                         10651\n",
      "Medicine                       9749\n",
      "Transport                      7220\n",
      "Batiment_gros_petit_oeuvre     6276\n",
      "Services                       3726\n",
      "Real_Estate                    2910\n",
      "Security                       2729\n",
      "Agriculture                    2188\n",
      "Finance                        2137\n",
      "Name: ORGANIZATION_TYPE, dtype: int64\n",
      "-----\n",
      "Colonne : FONDKAPREMONT_MODE\n",
      "Types uniques : [<class 'str'> <class 'float'>]\n",
      "Statut : Cette colonne contient des types mixtes.\n",
      "Modalités et leurs occurrences :\n",
      "NaN                      178770\n",
      "reg oper account          60403\n",
      "reg oper spec account      9974\n",
      "not specified              4778\n",
      "org spec account           4571\n",
      "Name: FONDKAPREMONT_MODE, dtype: int64\n",
      "-----\n",
      "Colonne : HOUSETYPE_MODE\n",
      "Types uniques : [<class 'str'> <class 'float'>]\n",
      "Statut : Cette colonne contient des types mixtes.\n",
      "Modalités et leurs occurrences :\n",
      "NaN                 132982\n",
      "block of flats      123167\n",
      "specific housing      1347\n",
      "terraced house        1000\n",
      "Name: HOUSETYPE_MODE, dtype: int64\n",
      "-----\n",
      "Colonne : WALLSMATERIAL_MODE\n",
      "Types uniques : [<class 'str'> <class 'float'>]\n",
      "Statut : Cette colonne contient des types mixtes.\n",
      "Modalités et leurs occurrences :\n",
      "NaN             136026\n",
      "Stone, brick     53693\n",
      "Panel            53036\n",
      "Block             7581\n",
      "Wooden            4533\n",
      "Mixed             1996\n",
      "Monolithic        1631\n",
      "Name: WALLSMATERIAL_MODE, dtype: int64\n",
      "-----\n",
      "Colonne : EMERGENCYSTATE_MODE\n",
      "Types uniques : [<class 'str'> <class 'float'>]\n",
      "Statut : Cette colonne contient des types mixtes.\n",
      "Modalités et leurs occurrences :\n",
      "No     130634\n",
      "NaN    125917\n",
      "Yes      1945\n",
      "Name: EMERGENCYSTATE_MODE, dtype: int64\n",
      "-----\n"
     ]
    }
   ],
   "source": [
    "## Appel de la fonction pour vérifier\n",
    "classifier_colonnes_par_type(train_propre)"
   ]
  },
  {
   "cell_type": "code",
   "execution_count": null,
   "id": "377c605e-b2f0-44fb-8f2e-dd062b9c12ff",
   "metadata": {},
   "outputs": [],
   "source": []
  },
  {
   "cell_type": "markdown",
   "id": "cedde772-0ba7-4ed4-9fc7-0171b1b72756",
   "metadata": {},
   "source": [
    "### 1.2.4 Gestion des valeurs manquantes\n",
    "\n",
    "1. **Identification des valeurs manquantes** :\n",
    "   - Analyse de la proportion de données manquantes pour chaque ligne, variable.\n",
    "\n",
    "2. **Traitement des valeurs manquantes** : Une imputation univariée a été réalisée selon le type de variable : \n",
    "\n",
    "   - **Suppression** : Les variables contenant plus de 50 % de valeurs manquantes sont supprimées.\n",
    "   - **Variables quantitatives** : Imputation par la médiane pour limiter l'impact des valeurs extrêmes.\n",
    "   - **Variables binaires** : Imputation par la valeur la plus fréquente (*mode*).\n",
    "   - **Variables qualitatives** : Imputation par la modalité la plus fréquente afin de préserver la cohérence des catégories.\n",
    "\n",
    "3. **Application cohérente aux données de test** :\n",
    "   - Les données de test sont imputées en utilisant les mêmes méthodes que celles appliquées aux données d’entraînement.\n",
    "   - Les statistiques utilisées (médiane, mode) sont calculées uniquement sur l’ensemble d’entraînement pour éviter tout `data leakage.`\n"
   ]
  },
  {
   "cell_type": "code",
   "execution_count": 40,
   "id": "aacdcc2e-ca13-4fc3-b01c-ab810a879c93",
   "metadata": {
    "tags": []
   },
   "outputs": [],
   "source": [
    "def report_missing_data(df, dataset_name=\"Dataset\"):\n",
    "  \n",
    "    # Nombre total de lignes\n",
    "    total_rows = len(df)\n",
    "    \n",
    "    # Nombre de lignes complètes (sans valeurs manquantes)\n",
    "    complete_rows = df.dropna().shape[0]\n",
    "    \n",
    "    # Nombre de lignes manquantes\n",
    "    missing_rows = total_rows - complete_rows\n",
    "    \n",
    "    # Calculer le pourcentage de lignes manquantes\n",
    "    percentage_missing = (missing_rows / total_rows) * 100\n",
    "    \n",
    "    # Calculer le nombre de colonnes avec plus de 50% de valeurs manquantes\n",
    "    columns_above_50_missing = len(df.isna().mean()[df.isna().mean() > 0.50])\n",
    "    \n",
    "    # Calculer le nombre de colonnes sans aucune valeur manquante\n",
    "    columns_no_missing = len(df.isna().mean()[df.isna().mean() == 0])\n",
    "    \n",
    "    # Afficher les résultats pour le dataset spécifié\n",
    "    print(f\"--- Rapport de données manquantes pour {dataset_name} ---\")\n",
    "    print(f\"Total de lignes : {total_rows}\")\n",
    "    print(f\"Lignes complètes : {complete_rows}\")\n",
    "    print(f\"Lignes manquantes : {missing_rows}\")\n",
    "    print(f\"Pourcentage de lignes manquantes : {percentage_missing:.2f}%\")\n",
    "    print(f\"Nombre de colonnes avec plus de 50% de valeurs manquantes : {columns_above_50_missing}\")\n",
    "    print(f\"Nombre de colonnes sans valeurs manquantes : {columns_no_missing}\")\n",
    "    print(\"\\n\")  # Ligne vide pour séparer les rapports\n",
    "\n"
   ]
  },
  {
   "cell_type": "code",
   "execution_count": 41,
   "id": "66a5e607-6253-4c0e-bdff-8bdff36a4b16",
   "metadata": {
    "tags": []
   },
   "outputs": [],
   "source": [
    "# Fonction pour afficher les colonnes avec des valeurs manquantes pour chaque type\n",
    "def missing_values_by_type(data, columns, dtype_name):\n",
    "    missing_info = {}\n",
    "    for col in columns:\n",
    "        missing_count = data[col].isna().sum()\n",
    "        if missing_count > 0:\n",
    "            missing_info[col] = (missing_count, (missing_count / len(data)) * 100)\n",
    "    \n",
    "    # Afficher le rapport des colonnes avec des valeurs manquantes pour le type\n",
    "    if missing_info:\n",
    "        print(f\"--- Variables de type {dtype_name} avec valeurs manquantes ---\")\n",
    "        for col, (count, pct) in missing_info.items():\n",
    "            print(f\"  - {col} : {count} valeurs manquantes ({pct:.2f}%)\")\n",
    "    else:\n",
    "        print(f\"Aucune variable de type {dtype_name} ne contient de valeurs manquantes.\")\n",
    "        \n",
    "    # Saut de ligne pour séparer les rapports de chaque type\n",
    "    print()"
   ]
  },
  {
   "cell_type": "markdown",
   "id": "7d9b828f-5ac1-4b02-adf8-cdfe9a3a28bb",
   "metadata": {},
   "source": [
    "##### Vérification Géneral des données manquantes"
   ]
  },
  {
   "cell_type": "code",
   "execution_count": 42,
   "id": "035e530f-e6c7-4aca-b409-cfeff01b25ca",
   "metadata": {
    "tags": []
   },
   "outputs": [
    {
     "name": "stdout",
     "output_type": "stream",
     "text": [
      "--- Rapport de données manquantes pour Train ---\n",
      "Total de lignes : 258496\n",
      "Lignes complètes : 6765\n",
      "Lignes manquantes : 251731\n",
      "Pourcentage de lignes manquantes : 97.38%\n",
      "Nombre de colonnes avec plus de 50% de valeurs manquantes : 47\n",
      "Nombre de colonnes sans valeurs manquantes : 57\n",
      "\n",
      "\n",
      "--- Rapport de données manquantes pour Test ---\n",
      "Total de lignes : 40241\n",
      "Lignes complètes : 1384\n",
      "Lignes manquantes : 38857\n",
      "Pourcentage de lignes manquantes : 96.56%\n",
      "Nombre de colonnes avec plus de 50% de valeurs manquantes : 33\n",
      "Nombre de colonnes sans valeurs manquantes : 56\n",
      "\n",
      "\n"
     ]
    }
   ],
   "source": [
    "# Appel de la fonction\n",
    "report_missing_data(train_propre, dataset_name=\"Train\")\n",
    "report_missing_data(test_propre, dataset_name=\"Test\")"
   ]
  },
  {
   "cell_type": "markdown",
   "id": "9ca7cd6b-2548-426b-92ce-3f5dcfbc2612",
   "metadata": {},
   "source": [
    "**On supprime les variables a plus de 50% valeurs manquantes**"
   ]
  },
  {
   "cell_type": "code",
   "execution_count": 43,
   "id": "4a9ee511-8475-44a1-ae17-dd5670e45529",
   "metadata": {
    "tags": []
   },
   "outputs": [],
   "source": [
    "# Sélectionner les colonnes avec plus de 50 % de valeurs manquantes dans chaque DataFrame\n",
    "l_var_nan_train = train_propre.columns[train_propre.isna().mean() > 0.5].tolist()\n",
    "l_var_nan_test = test_propre.columns[test_propre.isna().mean() > 0.5].tolist()\n",
    "\n",
    "# Supprimer les colonnes en fonction train\n",
    "train_cleaned = train_propre.drop(columns=l_var_nan_train, errors='ignore')\n",
    "test_cleaned = test_propre.drop(columns=l_var_nan_train, errors='ignore')"
   ]
  },
  {
   "cell_type": "code",
   "execution_count": 44,
   "id": "a1ca93b0-107e-4cc7-a581-f564fc219724",
   "metadata": {
    "tags": []
   },
   "outputs": [
    {
     "name": "stdout",
     "output_type": "stream",
     "text": [
      "(258496, 75)\n",
      "(40241, 74)\n"
     ]
    }
   ],
   "source": [
    "print(train_cleaned.shape)\n",
    "print(test_cleaned.shape)"
   ]
  },
  {
   "cell_type": "markdown",
   "id": "89dc595f-fe80-47c0-8427-8ebe34fd4263",
   "metadata": {},
   "source": [
    "**On applique l'imputation**"
   ]
  },
  {
   "cell_type": "code",
   "execution_count": 45,
   "id": "7b444a7a-9bfa-4963-81f4-5f7a0b83242d",
   "metadata": {
    "tags": []
   },
   "outputs": [
    {
     "name": "stdout",
     "output_type": "stream",
     "text": [
      "Series([], dtype: float64)\n",
      "Series([], dtype: float64)\n"
     ]
    }
   ],
   "source": [
    "# Sélection des colonnes en fonction du type de données\n",
    "obj_cols = train_cleaned.select_dtypes(include=['object']).columns\n",
    "int_cols = train_cleaned.select_dtypes(include=['int64']).columns\n",
    "float_cols = train_cleaned.select_dtypes(include=['float64']).columns\n",
    "\n",
    "# Imputation des valeurs manquantes pour les colonnes de type float\n",
    "for col in float_cols:\n",
    "    if train_cleaned[col].isna().sum() > 0: # Vérifie si la colonne contient des valeurs manquantes\n",
    "        median_value = train_cleaned[col].median()\n",
    "        # Remplace les valeurs manquantes dans le jeu d'entraînement par la médiane\n",
    "        train_cleaned[col].fillna(median_value, inplace=True) \n",
    "        # Remplace les valeurs manquantes dans le jeu de test par la médiane de l'entrainement\n",
    "        test_cleaned[col].fillna(median_value, inplace=True)\n",
    "\n",
    "        \n",
    "# Imputer les variables qualitatives (object) et binaires par le mode\n",
    "for col in obj_cols:\n",
    "    if train_cleaned[col].isna().sum() > 0:\n",
    "        mode_value = train_cleaned[col].mode()[0]\n",
    "        train_cleaned[col].fillna(mode_value, inplace=True)\n",
    "        test_cleaned[col].fillna(mode_value, inplace=True)\n",
    "\n",
    "\n",
    "              \n",
    "# vérification\n",
    "print(train_cleaned.isna().mean()[train_cleaned.isna().mean() > 0])\n",
    "print(test_cleaned.isna().mean()[train_cleaned.isna().mean() > 0])"
   ]
  },
  {
   "cell_type": "code",
   "execution_count": null,
   "id": "a75cba70-672a-484e-9d26-04854a48b815",
   "metadata": {},
   "outputs": [],
   "source": []
  },
  {
   "cell_type": "markdown",
   "id": "1b20edf1-9a66-4da1-94b4-f8c1f53ffcf3",
   "metadata": {},
   "source": [
    "## 1.3 Vérification finale du **Data Leakage**\n",
    "\n",
    "Le **data leakage** peut gravement fausser les performances d’un modèle en introduisant des informations que le modèle n’aurait pas en conditions réelles. Deux types principaux de fuites sont identifiés :\n",
    "\n",
    "1. **Contamination des ensembles d’entraînement et de test** : Cela survient lorsque les données de validation ou de test sont utilisées dans l'entraînement à cause d'un mauvais fractionnement ou prétraitement.  \n",
    "   `Ce risque a été anticipé grâce à un prétraitement strict et une validation croisée appropriée, comme détaillé ultérieurement.`\n",
    "\n",
    "2. **Fuite cible** : Cette fuite implique l'inclusion de données non disponibles lors de la prédiction réelle, faussant ainsi les résultats. Voici les méthodes appliquées pour éviter ce risque :\n",
    "\n",
    "   - **Inclusion d’informations futures** :  Vérification que les colonnes temporelles ne contiennent que des données antérieures ou contemporaines à l’événement à prédire.\n",
    "\n",
    "   - **Sélection de fonctionnalités inappropriées** : Une attention particulière a été portée aux relations entre les variables explicatives et la cible en fonction du type de données. Les variables présentant une forte corrélation sans lien causal réel ont été écartées pour éviter toute fuite indirecte."
   ]
  },
  {
   "cell_type": "code",
   "execution_count": null,
   "id": "01254d17-7722-4064-acc5-ebb8e00e776d",
   "metadata": {},
   "outputs": [],
   "source": []
  },
  {
   "cell_type": "markdown",
   "id": "f4aad8b4-5e60-40d4-871e-049936b9f4e0",
   "metadata": {},
   "source": [
    "**Relations entre les variables explicatives qualitatives et la variable cible**\n",
    "\n",
    "- Effectue le test du Chi-Carré pour les variables catégorielles par rapport à une colonne cible.\n",
    "- Calcule également l'indice de Cramér's V pour évaluer la force de l'association.\n",
    "- Graphique"
   ]
  },
  {
   "cell_type": "code",
   "execution_count": 46,
   "id": "f69899f8-9bdd-49ee-a4a4-c79d881688f6",
   "metadata": {
    "tags": []
   },
   "outputs": [],
   "source": [
    "# Fonction pour calculer le test du Chi-Carré et Cramér's V\n",
    "\n",
    "def build_chi2_cramer_table(dataframe, target_col, obj_cols):\n",
    "  \n",
    "     # Initialise un dictionnaire pour stocker les résultats\n",
    "    chi2_results = {}\n",
    "\n",
    "    # Tester chaque colonne catégorielle avec la variable cible\n",
    "    for col in obj_cols:\n",
    "        # Ignorer la colonne cible\n",
    "        if col == target_col:\n",
    "            continue\n",
    "\n",
    "        contingency_table = pd.crosstab(dataframe[col], dataframe[target_col])\n",
    "        chi2, p, dof, expected = chi2_contingency(contingency_table)\n",
    "        \n",
    "        # Calculer l'indice de Cramér's V\n",
    "        n = contingency_table.sum().sum()  # Taille de l'échantillon\n",
    "        min_dim = min(contingency_table.shape) - 1\n",
    "        cramer_v = np.sqrt(chi2 / (n * min_dim)) if min_dim > 0 else 0\n",
    "        \n",
    "        # Vérifier si les valeurs attendues sont supérieures à 5\n",
    "        expected_check = expected > 5\n",
    "        expected_valid = expected_check.sum() / expected.size > 0.8\n",
    "        \n",
    "        # Stocke les résultats avec arrondi\n",
    "        chi2_results[col] = {\n",
    "            'chi2_stat': round(chi2, 5),\n",
    "            'p_value': round(p, 5),\n",
    "            'cramer_v': round(cramer_v, 5),\n",
    "            'expected_valid': expected_valid\n",
    "        }\n",
    "\n",
    "    return pd.DataFrame(chi2_results).T\n"
   ]
  },
  {
   "cell_type": "code",
   "execution_count": 47,
   "id": "906d717a-9477-45a3-bafb-e1e77074cd20",
   "metadata": {
    "tags": []
   },
   "outputs": [],
   "source": [
    "# Sélectionne les meilleures variables selon Cramér's V, avec p-value < 0.05.\n",
    "\n",
    "def top_features_by_cramer(chi2_cramer_df, top_n=4):\n",
    "   \n",
    "    filtered_df = chi2_cramer_df[chi2_cramer_df['p_value'] < 0.05]\n",
    "    top_features = filtered_df.sort_values(by='cramer_v', ascending=False).head(top_n)\n",
    "    \n",
    "    return top_features\n"
   ]
  },
  {
   "cell_type": "markdown",
   "id": "efe42873-4289-4477-83e6-a9cf3887dab6",
   "metadata": {},
   "source": [
    "###### Appel de la fonction pour les colonnes types 'obj'"
   ]
  },
  {
   "cell_type": "code",
   "execution_count": 48,
   "id": "bf73ec64-4d3f-43fb-9eec-a0113bdca220",
   "metadata": {
    "tags": []
   },
   "outputs": [
    {
     "name": "stdout",
     "output_type": "stream",
     "text": [
      "\n",
      "Les 4 meilleures variables selon Cramér's V pour les types 'object':\n"
     ]
    },
    {
     "data": {
      "text/html": [
       "<div>\n",
       "<style scoped>\n",
       "    .dataframe tbody tr th:only-of-type {\n",
       "        vertical-align: middle;\n",
       "    }\n",
       "\n",
       "    .dataframe tbody tr th {\n",
       "        vertical-align: top;\n",
       "    }\n",
       "\n",
       "    .dataframe thead th {\n",
       "        text-align: right;\n",
       "    }\n",
       "</style>\n",
       "<table border=\"1\" class=\"dataframe\">\n",
       "  <thead>\n",
       "    <tr style=\"text-align: right;\">\n",
       "      <th></th>\n",
       "      <th>chi2_stat</th>\n",
       "      <th>p_value</th>\n",
       "      <th>cramer_v</th>\n",
       "      <th>expected_valid</th>\n",
       "    </tr>\n",
       "  </thead>\n",
       "  <tbody>\n",
       "    <tr>\n",
       "      <th>NAME_INCOME_TYPE</th>\n",
       "      <td>1065.36985</td>\n",
       "      <td>0.0</td>\n",
       "      <td>0.0642</td>\n",
       "      <td>True</td>\n",
       "    </tr>\n",
       "    <tr>\n",
       "      <th>OCCUPATION_TYPE</th>\n",
       "      <td>838.45994</td>\n",
       "      <td>0.0</td>\n",
       "      <td>0.05695</td>\n",
       "      <td>True</td>\n",
       "    </tr>\n",
       "    <tr>\n",
       "      <th>CODE_GENDER</th>\n",
       "      <td>834.70524</td>\n",
       "      <td>0.0</td>\n",
       "      <td>0.05683</td>\n",
       "      <td>True</td>\n",
       "    </tr>\n",
       "    <tr>\n",
       "      <th>NAME_EDUCATION_TYPE</th>\n",
       "      <td>735.03771</td>\n",
       "      <td>0.0</td>\n",
       "      <td>0.05332</td>\n",
       "      <td>True</td>\n",
       "    </tr>\n",
       "  </tbody>\n",
       "</table>\n",
       "</div>"
      ],
      "text/plain": [
       "                      chi2_stat p_value cramer_v expected_valid\n",
       "NAME_INCOME_TYPE     1065.36985     0.0   0.0642           True\n",
       "OCCUPATION_TYPE       838.45994     0.0  0.05695           True\n",
       "CODE_GENDER           834.70524     0.0  0.05683           True\n",
       "NAME_EDUCATION_TYPE   735.03771     0.0  0.05332           True"
      ]
     },
     "execution_count": 48,
     "metadata": {},
     "output_type": "execute_result"
    }
   ],
   "source": [
    "chi2_results_df_object = build_chi2_cramer_table(train_cleaned, 'TARGET', obj_cols)\n",
    "top_features = top_features_by_cramer(chi2_results_df_object, top_n=4)\n",
    "print(\"\\nLes 4 meilleures variables selon Cramér's V pour les types 'object':\")\n",
    "top_features\n"
   ]
  },
  {
   "cell_type": "markdown",
   "id": "35b79ea5-055f-4127-b436-84415648f5bb",
   "metadata": {},
   "source": [
    "###### Appel de la fonction pour les colonnes types 'int64'"
   ]
  },
  {
   "cell_type": "code",
   "execution_count": 49,
   "id": "50d368fd-b037-4984-b6e6-fe2825e4fc21",
   "metadata": {
    "tags": []
   },
   "outputs": [
    {
     "name": "stdout",
     "output_type": "stream",
     "text": [
      "\n",
      "Les 4 meilleures variables selon Cramér's V pour les types 'int64':\n"
     ]
    },
    {
     "data": {
      "text/html": [
       "<div>\n",
       "<style scoped>\n",
       "    .dataframe tbody tr th:only-of-type {\n",
       "        vertical-align: middle;\n",
       "    }\n",
       "\n",
       "    .dataframe tbody tr th {\n",
       "        vertical-align: top;\n",
       "    }\n",
       "\n",
       "    .dataframe thead th {\n",
       "        text-align: right;\n",
       "    }\n",
       "</style>\n",
       "<table border=\"1\" class=\"dataframe\">\n",
       "  <thead>\n",
       "    <tr style=\"text-align: right;\">\n",
       "      <th></th>\n",
       "      <th>chi2_stat</th>\n",
       "      <th>p_value</th>\n",
       "      <th>cramer_v</th>\n",
       "      <th>expected_valid</th>\n",
       "    </tr>\n",
       "  </thead>\n",
       "  <tbody>\n",
       "    <tr>\n",
       "      <th>AGE</th>\n",
       "      <td>1721.60228</td>\n",
       "      <td>0.0</td>\n",
       "      <td>0.08161</td>\n",
       "      <td>True</td>\n",
       "    </tr>\n",
       "    <tr>\n",
       "      <th>REGION_RATING_CLIENT_W_CITY</th>\n",
       "      <td>918.91616</td>\n",
       "      <td>0.0</td>\n",
       "      <td>0.05962</td>\n",
       "      <td>True</td>\n",
       "    </tr>\n",
       "    <tr>\n",
       "      <th>REGION_RATING_CLIENT</th>\n",
       "      <td>855.62266</td>\n",
       "      <td>0.0</td>\n",
       "      <td>0.05753</td>\n",
       "      <td>True</td>\n",
       "    </tr>\n",
       "    <tr>\n",
       "      <th>DAYS_LAST_PHONE_CHANGE_YEARS</th>\n",
       "      <td>819.92403</td>\n",
       "      <td>0.0</td>\n",
       "      <td>0.05632</td>\n",
       "      <td>True</td>\n",
       "    </tr>\n",
       "  </tbody>\n",
       "</table>\n",
       "</div>"
      ],
      "text/plain": [
       "                               chi2_stat p_value cramer_v expected_valid\n",
       "AGE                           1721.60228     0.0  0.08161           True\n",
       "REGION_RATING_CLIENT_W_CITY    918.91616     0.0  0.05962           True\n",
       "REGION_RATING_CLIENT           855.62266     0.0  0.05753           True\n",
       "DAYS_LAST_PHONE_CHANGE_YEARS   819.92403     0.0  0.05632           True"
      ]
     },
     "execution_count": 49,
     "metadata": {},
     "output_type": "execute_result"
    }
   ],
   "source": [
    "# Exemple pour les colonnes 'int64'\n",
    "chi2_results_df_int64 = build_chi2_cramer_table(train_cleaned, 'TARGET', int_cols)\n",
    "top_features = top_features_by_cramer(chi2_results_df_int64, top_n=4)\n",
    "print(\"\\nLes 4 meilleures variables selon Cramér's V pour les types 'int64':\")\n",
    "top_features"
   ]
  },
  {
   "cell_type": "markdown",
   "id": "94f789b3-17b3-4f73-8a42-dcfcfdefcb7b",
   "metadata": {},
   "source": [
    "**Relations entre les variables explicatives quantitatives et la variable cible**\n",
    "- On va calculer la corrélation de Spearman "
   ]
  },
  {
   "cell_type": "code",
   "execution_count": 50,
   "id": "d4d035ca-3d64-43a5-84b6-1c88a969bbf6",
   "metadata": {
    "tags": []
   },
   "outputs": [
    {
     "name": "stdout",
     "output_type": "stream",
     "text": [
      "Les 4 meilleures variables selon la corrélation de Spearman :\n"
     ]
    },
    {
     "data": {
      "text/html": [
       "<div>\n",
       "<style scoped>\n",
       "    .dataframe tbody tr th:only-of-type {\n",
       "        vertical-align: middle;\n",
       "    }\n",
       "\n",
       "    .dataframe tbody tr th {\n",
       "        vertical-align: top;\n",
       "    }\n",
       "\n",
       "    .dataframe thead th {\n",
       "        text-align: right;\n",
       "    }\n",
       "</style>\n",
       "<table border=\"1\" class=\"dataframe\">\n",
       "  <thead>\n",
       "    <tr style=\"text-align: right;\">\n",
       "      <th></th>\n",
       "      <th>variable</th>\n",
       "      <th>spearman_correlation</th>\n",
       "      <th>spearman_p_value</th>\n",
       "    </tr>\n",
       "  </thead>\n",
       "  <tbody>\n",
       "    <tr>\n",
       "      <th>6</th>\n",
       "      <td>EXT_SOURCE_2</td>\n",
       "      <td>-0.1435</td>\n",
       "      <td>0.0</td>\n",
       "    </tr>\n",
       "    <tr>\n",
       "      <th>7</th>\n",
       "      <td>EXT_SOURCE_3</td>\n",
       "      <td>-0.1390</td>\n",
       "      <td>0.0</td>\n",
       "    </tr>\n",
       "    <tr>\n",
       "      <th>19</th>\n",
       "      <td>EMPLOYMENT_DURATION</td>\n",
       "      <td>-0.0740</td>\n",
       "      <td>0.0</td>\n",
       "    </tr>\n",
       "    <tr>\n",
       "      <th>10</th>\n",
       "      <td>DEF_30_CNT_SOCIAL_CIRCLE</td>\n",
       "      <td>0.0334</td>\n",
       "      <td>0.0</td>\n",
       "    </tr>\n",
       "  </tbody>\n",
       "</table>\n",
       "</div>"
      ],
      "text/plain": [
       "                    variable  spearman_correlation  spearman_p_value\n",
       "6               EXT_SOURCE_2               -0.1435               0.0\n",
       "7               EXT_SOURCE_3               -0.1390               0.0\n",
       "19       EMPLOYMENT_DURATION               -0.0740               0.0\n",
       "10  DEF_30_CNT_SOCIAL_CIRCLE                0.0334               0.0"
      ]
     },
     "execution_count": 50,
     "metadata": {},
     "output_type": "execute_result"
    }
   ],
   "source": [
    "# Liste pour stocker les résultats\n",
    "results_list = []\n",
    "\n",
    "# Calculer la corrélation de Spearman pour chaque variable numérique\n",
    "for col in float_cols:\n",
    "    corr, p_value = spearmanr(train_cleaned[\"TARGET\"], train_cleaned[col])\n",
    "    results_list.append({\n",
    "        'variable': col,\n",
    "        'spearman_correlation': round(corr, 4),  # Arrondi à 4 chiffres après la virgule\n",
    "        'spearman_p_value': round(p_value, 4)    # Arrondi à 4 chiffres après la virgule\n",
    "    })\n",
    "\n",
    "# Convertir les résultats en DataFrame pour affichage\n",
    "results_df = pd.DataFrame(results_list)\n",
    "\n",
    "# Filtrer les p-values < 0.05 et trier par la corrélation absolue\n",
    "filtered_df = results_df[results_df['spearman_p_value'] < 0.05]\n",
    "top_features = filtered_df.reindex(\n",
    "    filtered_df['spearman_correlation'].abs().sort_values(ascending=False).index\n",
    ").head(4)\n",
    "\n",
    "# Affichage des meilleurs résultats\n",
    "print(\"Les 4 meilleures variables selon la corrélation de Spearman :\")\n",
    "top_features\n"
   ]
  },
  {
   "cell_type": "markdown",
   "id": "a1bb237c-244b-4d7a-bcda-4a6d810c3e86",
   "metadata": {},
   "source": [
    "## 1.4 Analyse de la distribution TARGET"
   ]
  },
  {
   "cell_type": "code",
   "execution_count": 51,
   "id": "52d17ed3-fc05-45a1-9e59-851a026ea3e7",
   "metadata": {
    "tags": []
   },
   "outputs": [
    {
     "data": {
      "text/plain": [
       "0    0.921995\n",
       "1    0.078005\n",
       "Name: TARGET, dtype: float64"
      ]
     },
     "execution_count": 51,
     "metadata": {},
     "output_type": "execute_result"
    }
   ],
   "source": [
    "train_cleaned[\"TARGET\"].value_counts(normalize=True)"
   ]
  },
  {
   "cell_type": "code",
   "execution_count": 52,
   "id": "8c431e1d-2be1-4087-b979-6dd5d83e4aaf",
   "metadata": {
    "tags": []
   },
   "outputs": [
    {
     "data": {
      "image/png": "[encoded data removed]",
      "text/plain": [
       "<Figure size 576x576 with 1 Axes>"
      ]
     },
     "metadata": {},
     "output_type": "display_data"
    }
   ],
   "source": [
    "# Ajuster la taille de la figure\n",
    "plt.figure(figsize=(8, 8))  # Taille plus grande, ajuste (largeur, hauteur) comme tu veux\n",
    "\n",
    "# Créer le graphique en camembert\n",
    "plt.pie(\n",
    "    train_cleaned[\"TARGET\"].value_counts(normalize=True),\n",
    "    labels=train_cleaned[\"TARGET\"].value_counts(normalize=True).index,\n",
    "    autopct='%.2f%%'\n",
    ")\n",
    "\n",
    "# Ajouter un titre\n",
    "plt.title(\"Répartition des valeurs de TARGET\")\n",
    "\n",
    "# Afficher le graphique\n",
    "plt.show()\n"
   ]
  },
  {
   "cell_type": "markdown",
   "id": "ee3d250c-388c-4006-91a5-350d357f058e",
   "metadata": {},
   "source": [
    "## 1.5 Sauvegarde des prétraitements\n",
    "\n",
    "### 1.5.1 Finalisation de la gestion des variables catégorielles\n",
    "\n",
    "Convertir les variables catégorielles en variables numériques adaptées aux modèles de machine learning. Et on assure la cohenrence des des transformations effectuées sur l'ensemble d'entraînement doivent être identiques sur l'ensemble de testpour éviter fuite de donnée.\n",
    "\n",
    "##### Méthode\n",
    "Utilisation de `pd.get_dummies()` avec `drop_first=True` :  \n",
    "- Évite la **multicolinéarité** (redondance entre colonnes).  \n",
    "- Réduit la **dimensionnalité** des données.  \n",
    "- Assure que l'ensemble de test utilise les mêmes colonnes que l'ensemble d'entraînement, en ajoutant des colonnes manquantes avec des valeurs par défaut (fill_value=0) si nécessaire. "
   ]
  },
  {
   "cell_type": "code",
   "execution_count": 53,
   "id": "132e882b-c5a4-44b5-a6fe-c14d5a37c631",
   "metadata": {
    "tags": []
   },
   "outputs": [],
   "source": [
    "from sklearn.preprocessing import  OneHotEncoder"
   ]
  },
  {
   "cell_type": "code",
   "execution_count": 54,
   "id": "1f99adae-6c2a-4eb5-9f4f-7acfb248c779",
   "metadata": {
    "tags": []
   },
   "outputs": [
    {
     "name": "stdout",
     "output_type": "stream",
     "text": [
      "Colonnes supplémentaires dans test : set()\n",
      "Colonnes manquantes dans test : {'TARGET'}\n",
      "(258496, 118)\n",
      "(40241, 117)\n"
     ]
    }
   ],
   "source": [
    "# On spécifie les colonnes \n",
    "obj_cols_train = train_cleaned.select_dtypes(include=['object']).columns\n",
    "obj_cols_test = test_cleaned.select_dtypes(include=['object']).columns\n",
    "\n",
    "###################################################\n",
    "# 1. Encodage One-Hot pour les colonnes catégorielles\n",
    "#################################################\n",
    "\n",
    "train_final = pd.get_dummies(train_cleaned, columns=obj_cols_train, drop_first=True)\n",
    "test_final = pd.get_dummies(test_cleaned, columns=obj_cols_test, drop_first=True)\n",
    "\n",
    "#############################################\n",
    "## 2. Assurer la cohérence entre train et test\n",
    "#############################################\n",
    "\n",
    "# Colonnes dans test mais pas dans train\n",
    "extra_columns = set(test_final.columns) - set(train_final.columns)\n",
    "print(\"Colonnes supplémentaires dans test :\", extra_columns)\n",
    "\n",
    "# Colonnes dans train mais absentes dans test\n",
    "missing_columns = set(train_final.columns) - set(test_final.columns)\n",
    "print(\"Colonnes manquantes dans test :\", missing_columns)\n",
    "\n",
    "print(train_final.shape)\n",
    "print(test_final.shape)\n"
   ]
  },
  {
   "cell_type": "markdown",
   "id": "a3b51d26-5274-4b2b-8248-760af1f9319a",
   "metadata": {},
   "source": [
    "## 1.5.2 Vérification et nettoyage des noms des colonnes"
   ]
  },
  {
   "cell_type": "markdown",
   "id": "1bf49785-5e13-4279-9876-8c4b495b037b",
   "metadata": {},
   "source": [
    "**On vérifie que les noms des colonnes ne sont pas problematiques sinon on corrige**"
   ]
  },
  {
   "cell_type": "code",
   "execution_count": 55,
   "id": "f720d86f-408b-45c6-8aaa-ff77cadc8c59",
   "metadata": {
    "tags": []
   },
   "outputs": [
    {
     "name": "stdout",
     "output_type": "stream",
     "text": [
      "Colonnes problématiques :  ['NAME_CONTRACT_TYPE_Revolving loans', 'NAME_TYPE_SUITE_Spouse, partner', 'NAME_INCOME_TYPE_State servant', 'NAME_EDUCATION_TYPE_Secondary / secondary special', 'NAME_FAMILY_STATUS_Single / not married', 'NAME_HOUSING_TYPE_Municipal apartment', 'NAME_HOUSING_TYPE_Other housing types', 'NAME_HOUSING_TYPE_With parents', 'OCCUPATION_TYPE_Cleaning staff', 'OCCUPATION_TYPE_Cooking staff', 'OCCUPATION_TYPE_Core staff', 'OCCUPATION_TYPE_High skill tech staff', 'OCCUPATION_TYPE_Medicine staff', 'OCCUPATION_TYPE_Sales staff', 'OCCUPATION_TYPE_Security staff', 'ORGANIZATION_TYPE_Self-employed']\n"
     ]
    }
   ],
   "source": [
    "# Fonction pour détecter les caractères spéciaux\n",
    "\n",
    "def has_special_characters(column_name):\n",
    "    return bool(re.search(r'[^a-zA-Z0-9_]', column_name))\n",
    "\n",
    "# Appliquer la fonction pour trouver des colonnes problématiques\n",
    "problematic_columns = [col for col in train_final.columns if has_special_characters(col)]\n",
    "print(\"Colonnes problématiques : \", problematic_columns)"
   ]
  },
  {
   "cell_type": "markdown",
   "id": "3aca8c3b-a297-4506-91fd-5bd3458d638f",
   "metadata": {},
   "source": [
    "**Correction de ces colonnes problématiques sur train et test**\n"
   ]
  },
  {
   "cell_type": "code",
   "execution_count": 56,
   "id": "710a8af5-70b5-489f-902c-6303112127b0",
   "metadata": {
    "tags": []
   },
   "outputs": [],
   "source": [
    "def rename_columns(col):\n",
    "    # Remplace les caractères accentués par leurs équivalents non accentués\n",
    "    col = unidecode(col)\n",
    "    # Remplace tout caractère qui n'est pas alphanumérique ou underscore par un underscore\n",
    "    col = re.sub(r'[^a-zA-Z0-9_]', '_', col)\n",
    "    # Remplace les underscores multiples par un seul\n",
    "    col = re.sub(r'_+', '_', col)\n",
    "    # Enlève les underscores au début et à la fin de la chaîne\n",
    "    return col.strip('_')\n",
    "\n",
    "\n",
    "# Appliquer le renommage à toutes les colonnes de train_final\n",
    "train_final.columns = [rename_columns(col) for col in train_final.columns]\n",
    "\n",
    "# Appliquer le renommage à toutes les colonnes de test_final\n",
    "test_final.columns = [rename_columns(col) for col in test_final.columns]\n"
   ]
  },
  {
   "cell_type": "code",
   "execution_count": 57,
   "id": "a36fe48e-3e5c-45f9-881b-ea38ad751e89",
   "metadata": {
    "tags": []
   },
   "outputs": [
    {
     "name": "stdout",
     "output_type": "stream",
     "text": [
      "Colonnes problématiques Train :  []\n",
      "Colonnes problématiques Test :  []\n"
     ]
    }
   ],
   "source": [
    "# vérification\n",
    "\n",
    "# Appliquer la fonction pour trouver des colonnes problématiques\n",
    "problematic_columns = [col for col in train_final.columns if has_special_characters(col)]\n",
    "print(\"Colonnes problématiques Train : \", problematic_columns)\n",
    "\n",
    "# Appliquer la fonction pour trouver des colonnes problématiques\n",
    "problematic_columns = [col for col in test_final.columns if has_special_characters(col)]\n",
    "print(\"Colonnes problématiques Test : \", problematic_columns)"
   ]
  },
  {
   "cell_type": "markdown",
   "id": "6502d1df-16da-4649-9d1e-0c9521d99df7",
   "metadata": {},
   "source": [
    "### 1.4.3 Sauvegarde des prétraitements"
   ]
  },
  {
   "cell_type": "code",
   "execution_count": 58,
   "id": "ac640ec8-8567-4d5e-b59f-0969d074b591",
   "metadata": {
    "tags": []
   },
   "outputs": [],
   "source": [
    "# Sauvegarder un DataFrame en CSV\n",
    "train_final.to_csv('Final_train.csv', index=False)  # 'index=False' pour ne pas sauvegarder l'index du DataFrame\n",
    "test_final.to_csv('Final_test.csv', index=False)"
   ]
  },
  {
   "cell_type": "markdown",
   "id": "71fffef5-9d83-4379-bde6-4819401a27b4",
   "metadata": {},
   "source": [
    "#### Vérification"
   ]
  },
  {
   "cell_type": "code",
   "execution_count": 59,
   "id": "85506f17-0deb-4ede-b210-4ba507045c43",
   "metadata": {
    "tags": []
   },
   "outputs": [
    {
     "name": "stdout",
     "output_type": "stream",
     "text": [
      "(258496, 118)\n",
      "(40241, 117)\n"
     ]
    }
   ],
   "source": [
    "F_train = pd.read_csv('Final_train.csv')\n",
    "F_test = pd.read_csv('Final_test.csv')\n",
    "\n",
    "\n",
    "# Récupérer le nombre de lignes et de colonnes\n",
    "print(F_train.shape)\n",
    "print(F_test.shape)"
   ]
  },
  {
   "cell_type": "code",
   "execution_count": 60,
   "id": "9ce4456d-1248-41d2-8cea-8686ffc4a3ca",
   "metadata": {
    "tags": []
   },
   "outputs": [
    {
     "data": {
      "text/html": [
       "<div>\n",
       "<style scoped>\n",
       "    .dataframe tbody tr th:only-of-type {\n",
       "        vertical-align: middle;\n",
       "    }\n",
       "\n",
       "    .dataframe tbody tr th {\n",
       "        vertical-align: top;\n",
       "    }\n",
       "\n",
       "    .dataframe thead th {\n",
       "        text-align: right;\n",
       "    }\n",
       "</style>\n",
       "<table border=\"1\" class=\"dataframe\">\n",
       "  <thead>\n",
       "    <tr style=\"text-align: right;\">\n",
       "      <th></th>\n",
       "      <th>SK_ID_CURR</th>\n",
       "      <th>TARGET</th>\n",
       "      <th>AMT_INCOME_TOTAL</th>\n",
       "      <th>AMT_CREDIT</th>\n",
       "      <th>AMT_ANNUITY</th>\n",
       "      <th>AMT_GOODS_PRICE</th>\n",
       "      <th>REGION_POPULATION_RELATIVE</th>\n",
       "      <th>FLAG_MOBIL</th>\n",
       "      <th>FLAG_EMP_PHONE</th>\n",
       "      <th>FLAG_WORK_PHONE</th>\n",
       "      <th>...</th>\n",
       "      <th>ORGANIZATION_TYPE_Medicine</th>\n",
       "      <th>ORGANIZATION_TYPE_Other</th>\n",
       "      <th>ORGANIZATION_TYPE_Public_Services</th>\n",
       "      <th>ORGANIZATION_TYPE_Real_Estate</th>\n",
       "      <th>ORGANIZATION_TYPE_Security</th>\n",
       "      <th>ORGANIZATION_TYPE_Self_employed</th>\n",
       "      <th>ORGANIZATION_TYPE_Services</th>\n",
       "      <th>ORGANIZATION_TYPE_Trade</th>\n",
       "      <th>ORGANIZATION_TYPE_Transport</th>\n",
       "      <th>EMERGENCYSTATE_MODE_Yes</th>\n",
       "    </tr>\n",
       "  </thead>\n",
       "  <tbody>\n",
       "    <tr>\n",
       "      <th>0</th>\n",
       "      <td>100003</td>\n",
       "      <td>0</td>\n",
       "      <td>270000.0</td>\n",
       "      <td>1293502.5</td>\n",
       "      <td>35698.5</td>\n",
       "      <td>1129500.0</td>\n",
       "      <td>0.003541</td>\n",
       "      <td>1</td>\n",
       "      <td>1</td>\n",
       "      <td>0</td>\n",
       "      <td>...</td>\n",
       "      <td>0</td>\n",
       "      <td>0</td>\n",
       "      <td>0</td>\n",
       "      <td>0</td>\n",
       "      <td>0</td>\n",
       "      <td>0</td>\n",
       "      <td>0</td>\n",
       "      <td>0</td>\n",
       "      <td>0</td>\n",
       "      <td>0</td>\n",
       "    </tr>\n",
       "    <tr>\n",
       "      <th>1</th>\n",
       "      <td>100004</td>\n",
       "      <td>0</td>\n",
       "      <td>67500.0</td>\n",
       "      <td>135000.0</td>\n",
       "      <td>6750.0</td>\n",
       "      <td>135000.0</td>\n",
       "      <td>0.010032</td>\n",
       "      <td>1</td>\n",
       "      <td>1</td>\n",
       "      <td>1</td>\n",
       "      <td>...</td>\n",
       "      <td>0</td>\n",
       "      <td>0</td>\n",
       "      <td>1</td>\n",
       "      <td>0</td>\n",
       "      <td>0</td>\n",
       "      <td>0</td>\n",
       "      <td>0</td>\n",
       "      <td>0</td>\n",
       "      <td>0</td>\n",
       "      <td>0</td>\n",
       "    </tr>\n",
       "  </tbody>\n",
       "</table>\n",
       "<p>2 rows × 118 columns</p>\n",
       "</div>"
      ],
      "text/plain": [
       "   SK_ID_CURR  TARGET  AMT_INCOME_TOTAL  AMT_CREDIT  AMT_ANNUITY  \\\n",
       "0      100003       0          270000.0   1293502.5      35698.5   \n",
       "1      100004       0           67500.0    135000.0       6750.0   \n",
       "\n",
       "   AMT_GOODS_PRICE  REGION_POPULATION_RELATIVE  FLAG_MOBIL  FLAG_EMP_PHONE  \\\n",
       "0        1129500.0                    0.003541           1               1   \n",
       "1         135000.0                    0.010032           1               1   \n",
       "\n",
       "   FLAG_WORK_PHONE  ...  ORGANIZATION_TYPE_Medicine  ORGANIZATION_TYPE_Other  \\\n",
       "0                0  ...                           0                        0   \n",
       "1                1  ...                           0                        0   \n",
       "\n",
       "   ORGANIZATION_TYPE_Public_Services  ORGANIZATION_TYPE_Real_Estate  \\\n",
       "0                                  0                              0   \n",
       "1                                  1                              0   \n",
       "\n",
       "   ORGANIZATION_TYPE_Security  ORGANIZATION_TYPE_Self_employed  \\\n",
       "0                           0                                0   \n",
       "1                           0                                0   \n",
       "\n",
       "   ORGANIZATION_TYPE_Services  ORGANIZATION_TYPE_Trade  \\\n",
       "0                           0                        0   \n",
       "1                           0                        0   \n",
       "\n",
       "   ORGANIZATION_TYPE_Transport  EMERGENCYSTATE_MODE_Yes  \n",
       "0                            0                        0  \n",
       "1                            0                        0  \n",
       "\n",
       "[2 rows x 118 columns]"
      ]
     },
     "execution_count": 60,
     "metadata": {},
     "output_type": "execute_result"
    }
   ],
   "source": [
    "F_train.head(2)"
   ]
  },
  {
   "cell_type": "code",
   "execution_count": 61,
   "id": "acfc2211-a387-49ee-9b61-7507cc5e26af",
   "metadata": {
    "tags": []
   },
   "outputs": [
    {
     "data": {
      "text/html": [
       "<div>\n",
       "<style scoped>\n",
       "    .dataframe tbody tr th:only-of-type {\n",
       "        vertical-align: middle;\n",
       "    }\n",
       "\n",
       "    .dataframe tbody tr th {\n",
       "        vertical-align: top;\n",
       "    }\n",
       "\n",
       "    .dataframe thead th {\n",
       "        text-align: right;\n",
       "    }\n",
       "</style>\n",
       "<table border=\"1\" class=\"dataframe\">\n",
       "  <thead>\n",
       "    <tr style=\"text-align: right;\">\n",
       "      <th></th>\n",
       "      <th>SK_ID_CURR</th>\n",
       "      <th>AMT_INCOME_TOTAL</th>\n",
       "      <th>AMT_CREDIT</th>\n",
       "      <th>AMT_ANNUITY</th>\n",
       "      <th>AMT_GOODS_PRICE</th>\n",
       "      <th>REGION_POPULATION_RELATIVE</th>\n",
       "      <th>FLAG_MOBIL</th>\n",
       "      <th>FLAG_EMP_PHONE</th>\n",
       "      <th>FLAG_WORK_PHONE</th>\n",
       "      <th>FLAG_CONT_MOBILE</th>\n",
       "      <th>...</th>\n",
       "      <th>ORGANIZATION_TYPE_Medicine</th>\n",
       "      <th>ORGANIZATION_TYPE_Other</th>\n",
       "      <th>ORGANIZATION_TYPE_Public_Services</th>\n",
       "      <th>ORGANIZATION_TYPE_Real_Estate</th>\n",
       "      <th>ORGANIZATION_TYPE_Security</th>\n",
       "      <th>ORGANIZATION_TYPE_Self_employed</th>\n",
       "      <th>ORGANIZATION_TYPE_Services</th>\n",
       "      <th>ORGANIZATION_TYPE_Trade</th>\n",
       "      <th>ORGANIZATION_TYPE_Transport</th>\n",
       "      <th>EMERGENCYSTATE_MODE_Yes</th>\n",
       "    </tr>\n",
       "  </thead>\n",
       "  <tbody>\n",
       "    <tr>\n",
       "      <th>0</th>\n",
       "      <td>100001</td>\n",
       "      <td>135000.0</td>\n",
       "      <td>568800.0</td>\n",
       "      <td>20560.5</td>\n",
       "      <td>450000.0</td>\n",
       "      <td>0.018850</td>\n",
       "      <td>1</td>\n",
       "      <td>1</td>\n",
       "      <td>0</td>\n",
       "      <td>1</td>\n",
       "      <td>...</td>\n",
       "      <td>0</td>\n",
       "      <td>0</td>\n",
       "      <td>0</td>\n",
       "      <td>0</td>\n",
       "      <td>0</td>\n",
       "      <td>0</td>\n",
       "      <td>0</td>\n",
       "      <td>0</td>\n",
       "      <td>0</td>\n",
       "      <td>0</td>\n",
       "    </tr>\n",
       "    <tr>\n",
       "      <th>1</th>\n",
       "      <td>100005</td>\n",
       "      <td>99000.0</td>\n",
       "      <td>222768.0</td>\n",
       "      <td>17370.0</td>\n",
       "      <td>180000.0</td>\n",
       "      <td>0.035792</td>\n",
       "      <td>1</td>\n",
       "      <td>1</td>\n",
       "      <td>0</td>\n",
       "      <td>1</td>\n",
       "      <td>...</td>\n",
       "      <td>0</td>\n",
       "      <td>0</td>\n",
       "      <td>0</td>\n",
       "      <td>0</td>\n",
       "      <td>0</td>\n",
       "      <td>1</td>\n",
       "      <td>0</td>\n",
       "      <td>0</td>\n",
       "      <td>0</td>\n",
       "      <td>0</td>\n",
       "    </tr>\n",
       "  </tbody>\n",
       "</table>\n",
       "<p>2 rows × 117 columns</p>\n",
       "</div>"
      ],
      "text/plain": [
       "   SK_ID_CURR  AMT_INCOME_TOTAL  AMT_CREDIT  AMT_ANNUITY  AMT_GOODS_PRICE  \\\n",
       "0      100001          135000.0    568800.0      20560.5         450000.0   \n",
       "1      100005           99000.0    222768.0      17370.0         180000.0   \n",
       "\n",
       "   REGION_POPULATION_RELATIVE  FLAG_MOBIL  FLAG_EMP_PHONE  FLAG_WORK_PHONE  \\\n",
       "0                    0.018850           1               1                0   \n",
       "1                    0.035792           1               1                0   \n",
       "\n",
       "   FLAG_CONT_MOBILE  ...  ORGANIZATION_TYPE_Medicine  ORGANIZATION_TYPE_Other  \\\n",
       "0                 1  ...                           0                        0   \n",
       "1                 1  ...                           0                        0   \n",
       "\n",
       "   ORGANIZATION_TYPE_Public_Services  ORGANIZATION_TYPE_Real_Estate  \\\n",
       "0                                  0                              0   \n",
       "1                                  0                              0   \n",
       "\n",
       "   ORGANIZATION_TYPE_Security  ORGANIZATION_TYPE_Self_employed  \\\n",
       "0                           0                                0   \n",
       "1                           0                                1   \n",
       "\n",
       "   ORGANIZATION_TYPE_Services  ORGANIZATION_TYPE_Trade  \\\n",
       "0                           0                        0   \n",
       "1                           0                        0   \n",
       "\n",
       "   ORGANIZATION_TYPE_Transport  EMERGENCYSTATE_MODE_Yes  \n",
       "0                            0                        0  \n",
       "1                            0                        0  \n",
       "\n",
       "[2 rows x 117 columns]"
      ]
     },
     "execution_count": 61,
     "metadata": {},
     "output_type": "execute_result"
    }
   ],
   "source": [
    "F_test.head(2)"
   ]
  },
  {
   "cell_type": "code",
   "execution_count": null,
   "id": "f7298185-7a14-46d4-8180-ca7c76c02917",
   "metadata": {},
   "outputs": [],
   "source": []
  }
 ],
 "metadata": {
  "kernelspec": {
   "display_name": "Python 3 (ipykernel)",
   "language": "python",
   "name": "python3"
  },
  "language_info": {
   "codemirror_mode": {
    "name": "ipython",
    "version": 3
   },
   "file_extension": ".py",
   "mimetype": "text/x-python",
   "name": "python",
   "nbconvert_exporter": "python",
   "pygments_lexer": "ipython3",
   "version": "3.9.16"
  }
 },
 "nbformat": 4,
 "nbformat_minor": 5
}
